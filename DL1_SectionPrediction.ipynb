{
  "nbformat": 4,
  "nbformat_minor": 0,
  "metadata": {
    "colab": {
      "provenance": [],
      "machine_shape": "hm",
      "gpuType": "T4"
    },
    "kernelspec": {
      "name": "python3",
      "display_name": "Python 3"
    },
    "language_info": {
      "name": "python"
    },
    "accelerator": "GPU",
    "gpuClass": "standard"
  },
  "cells": [
    {
      "cell_type": "markdown",
      "source": [
        "# Part 1: News Article Section Prediction Task\n",
        "\n",
        "Loading Guardian Articles\n",
        "\n"
      ],
      "metadata": {
        "id": "0pQOxGv6b5XM"
      }
    },
    {
      "cell_type": "code",
      "source": [
        "#Import Packages\n",
        "import numpy as np\n",
        "import tensorflow as tf\n",
        "import matplotlib.pyplot as plt\n",
        "import pandas as pd\n",
        "from tensorflow.keras.preprocessing import sequence\n",
        "from tensorflow.keras.models import Sequential\n",
        "from tensorflow.keras.layers import Dense, Dropout, Activation, Flatten, Embedding, Conv1D, GlobalMaxPooling1D, GlobalAveragePooling1D, LSTM, SimpleRNN,TextVectorization\n",
        "import tensorflow as tf\n",
        "from keras.regularizers import l2\n",
        "from keras import utils as np_utils\n",
        "from tensorflow.keras.callbacks import EarlyStopping, ModelCheckpoint\n",
        "\n",
        "import numpy as np\n",
        "from keras.models import Sequential\n",
        "from keras.layers import LSTM, Dense, Embedding\n",
        "from keras.preprocessing.text import Tokenizer\n",
        "from keras.utils import pad_sequences\n",
        "from keras.utils import to_categorical\n",
        "\n",
        "import random\n",
        "import os\n",
        "import shutil\n",
        "from tensorflow.keras.callbacks import EarlyStopping, ModelCheckpoint\n",
        "\n",
        "from google.colab import drive\n",
        "drive.mount('/content/drive')"
      ],
      "metadata": {
        "id": "SsfvLu6Bb0Bx",
        "colab": {
          "base_uri": "https://localhost:8080/"
        },
        "outputId": "9083a2e4-e901-4a21-cfee-1581ddf0a3e3"
      },
      "execution_count": null,
      "outputs": [
        {
          "output_type": "stream",
          "name": "stdout",
          "text": [
            "Mounted at /content/drive\n"
          ]
        }
      ]
    },
    {
      "cell_type": "code",
      "source": [
        "#Reading in and printing details of dataset\n",
        "articles=pd.read_csv('drive/MyDrive/guardian_articles.csv')\n",
        "print(articles.shape)\n",
        "articles.head()"
      ],
      "metadata": {
        "id": "fBPtZwzNeKU-",
        "colab": {
          "base_uri": "https://localhost:8080/",
          "height": 355
        },
        "outputId": "8f1c679e-2f1d-44e2-8fbe-5c16c89812f4"
      },
      "execution_count": null,
      "outputs": [
        {
          "output_type": "stream",
          "name": "stdout",
          "text": [
            "(149839, 7)\n"
          ]
        },
        {
          "output_type": "execute_result",
          "data": {
            "text/plain": [
              "                                          article_id sectionName  \\\n",
              "0  us-news/2016/jan/31/iowa-caucus-underdog-candi...     US news   \n",
              "1  us-news/2016/jan/31/iowa-caucus-worlds-most-pa...     US news   \n",
              "2  world/2016/jan/31/tanzania-britsh-helicopter-p...  World news   \n",
              "3  football/2016/jan/31/late-winner-gets-usa-off-...    Football   \n",
              "4  football/2016/jan/31/blackburn-paul-lambert-ox...    Football   \n",
              "\n",
              "                                            webTitle  \\\n",
              "0  Iowa underdogs put on brave faces despite all ...   \n",
              "1  Iowa caucus: hologram eagle and Jesus star on ...   \n",
              "2  British pilot in Tanzania 'manoeuvred ​to save...   \n",
              "3  USA 3-2 Iceland | International friendly match...   \n",
              "4  Reinvigorated Paul Lambert reflects after impr...   \n",
              "\n",
              "                                              webUrl  \\\n",
              "0  https://www.theguardian.com/us-news/2016/jan/3...   \n",
              "1  https://www.theguardian.com/us-news/2016/jan/3...   \n",
              "2  https://www.theguardian.com/world/2016/jan/31/...   \n",
              "3  https://www.theguardian.com/football/2016/jan/...   \n",
              "4  https://www.theguardian.com/football/2016/jan/...   \n",
              "\n",
              "                                         bodyContent    webPublicationDate  id  \n",
              "0  As polling day looms and the cameras turn only...  2016-01-31T23:53:37Z   1  \n",
              "1  In Des Moines on Sunday, the Guardian was give...  2016-01-31T23:46:28Z   2  \n",
              "2  A British pilot who was shot dead by an elepha...  2016-01-31T23:43:48Z   3  \n",
              "3  USA took a step toward shaking off the ghosts ...  2016-01-31T23:30:49Z   4  \n",
              "4  The clean-shaven, spectacle free and suspiciou...  2016-01-31T22:30:10Z   5  "
            ],
            "text/html": [
              "\n",
              "  <div id=\"df-32f27d36-adc3-42bd-a4f4-35eb706cfa8d\">\n",
              "    <div class=\"colab-df-container\">\n",
              "      <div>\n",
              "<style scoped>\n",
              "    .dataframe tbody tr th:only-of-type {\n",
              "        vertical-align: middle;\n",
              "    }\n",
              "\n",
              "    .dataframe tbody tr th {\n",
              "        vertical-align: top;\n",
              "    }\n",
              "\n",
              "    .dataframe thead th {\n",
              "        text-align: right;\n",
              "    }\n",
              "</style>\n",
              "<table border=\"1\" class=\"dataframe\">\n",
              "  <thead>\n",
              "    <tr style=\"text-align: right;\">\n",
              "      <th></th>\n",
              "      <th>article_id</th>\n",
              "      <th>sectionName</th>\n",
              "      <th>webTitle</th>\n",
              "      <th>webUrl</th>\n",
              "      <th>bodyContent</th>\n",
              "      <th>webPublicationDate</th>\n",
              "      <th>id</th>\n",
              "    </tr>\n",
              "  </thead>\n",
              "  <tbody>\n",
              "    <tr>\n",
              "      <th>0</th>\n",
              "      <td>us-news/2016/jan/31/iowa-caucus-underdog-candi...</td>\n",
              "      <td>US news</td>\n",
              "      <td>Iowa underdogs put on brave faces despite all ...</td>\n",
              "      <td>https://www.theguardian.com/us-news/2016/jan/3...</td>\n",
              "      <td>As polling day looms and the cameras turn only...</td>\n",
              "      <td>2016-01-31T23:53:37Z</td>\n",
              "      <td>1</td>\n",
              "    </tr>\n",
              "    <tr>\n",
              "      <th>1</th>\n",
              "      <td>us-news/2016/jan/31/iowa-caucus-worlds-most-pa...</td>\n",
              "      <td>US news</td>\n",
              "      <td>Iowa caucus: hologram eagle and Jesus star on ...</td>\n",
              "      <td>https://www.theguardian.com/us-news/2016/jan/3...</td>\n",
              "      <td>In Des Moines on Sunday, the Guardian was give...</td>\n",
              "      <td>2016-01-31T23:46:28Z</td>\n",
              "      <td>2</td>\n",
              "    </tr>\n",
              "    <tr>\n",
              "      <th>2</th>\n",
              "      <td>world/2016/jan/31/tanzania-britsh-helicopter-p...</td>\n",
              "      <td>World news</td>\n",
              "      <td>British pilot in Tanzania 'manoeuvred ​to save...</td>\n",
              "      <td>https://www.theguardian.com/world/2016/jan/31/...</td>\n",
              "      <td>A British pilot who was shot dead by an elepha...</td>\n",
              "      <td>2016-01-31T23:43:48Z</td>\n",
              "      <td>3</td>\n",
              "    </tr>\n",
              "    <tr>\n",
              "      <th>3</th>\n",
              "      <td>football/2016/jan/31/late-winner-gets-usa-off-...</td>\n",
              "      <td>Football</td>\n",
              "      <td>USA 3-2 Iceland | International friendly match...</td>\n",
              "      <td>https://www.theguardian.com/football/2016/jan/...</td>\n",
              "      <td>USA took a step toward shaking off the ghosts ...</td>\n",
              "      <td>2016-01-31T23:30:49Z</td>\n",
              "      <td>4</td>\n",
              "    </tr>\n",
              "    <tr>\n",
              "      <th>4</th>\n",
              "      <td>football/2016/jan/31/blackburn-paul-lambert-ox...</td>\n",
              "      <td>Football</td>\n",
              "      <td>Reinvigorated Paul Lambert reflects after impr...</td>\n",
              "      <td>https://www.theguardian.com/football/2016/jan/...</td>\n",
              "      <td>The clean-shaven, spectacle free and suspiciou...</td>\n",
              "      <td>2016-01-31T22:30:10Z</td>\n",
              "      <td>5</td>\n",
              "    </tr>\n",
              "  </tbody>\n",
              "</table>\n",
              "</div>\n",
              "      <button class=\"colab-df-convert\" onclick=\"convertToInteractive('df-32f27d36-adc3-42bd-a4f4-35eb706cfa8d')\"\n",
              "              title=\"Convert this dataframe to an interactive table.\"\n",
              "              style=\"display:none;\">\n",
              "        \n",
              "  <svg xmlns=\"http://www.w3.org/2000/svg\" height=\"24px\"viewBox=\"0 0 24 24\"\n",
              "       width=\"24px\">\n",
              "    <path d=\"M0 0h24v24H0V0z\" fill=\"none\"/>\n",
              "    <path d=\"M18.56 5.44l.94 2.06.94-2.06 2.06-.94-2.06-.94-.94-2.06-.94 2.06-2.06.94zm-11 1L8.5 8.5l.94-2.06 2.06-.94-2.06-.94L8.5 2.5l-.94 2.06-2.06.94zm10 10l.94 2.06.94-2.06 2.06-.94-2.06-.94-.94-2.06-.94 2.06-2.06.94z\"/><path d=\"M17.41 7.96l-1.37-1.37c-.4-.4-.92-.59-1.43-.59-.52 0-1.04.2-1.43.59L10.3 9.45l-7.72 7.72c-.78.78-.78 2.05 0 2.83L4 21.41c.39.39.9.59 1.41.59.51 0 1.02-.2 1.41-.59l7.78-7.78 2.81-2.81c.8-.78.8-2.07 0-2.86zM5.41 20L4 18.59l7.72-7.72 1.47 1.35L5.41 20z\"/>\n",
              "  </svg>\n",
              "      </button>\n",
              "      \n",
              "  <style>\n",
              "    .colab-df-container {\n",
              "      display:flex;\n",
              "      flex-wrap:wrap;\n",
              "      gap: 12px;\n",
              "    }\n",
              "\n",
              "    .colab-df-convert {\n",
              "      background-color: #E8F0FE;\n",
              "      border: none;\n",
              "      border-radius: 50%;\n",
              "      cursor: pointer;\n",
              "      display: none;\n",
              "      fill: #1967D2;\n",
              "      height: 32px;\n",
              "      padding: 0 0 0 0;\n",
              "      width: 32px;\n",
              "    }\n",
              "\n",
              "    .colab-df-convert:hover {\n",
              "      background-color: #E2EBFA;\n",
              "      box-shadow: 0px 1px 2px rgba(60, 64, 67, 0.3), 0px 1px 3px 1px rgba(60, 64, 67, 0.15);\n",
              "      fill: #174EA6;\n",
              "    }\n",
              "\n",
              "    [theme=dark] .colab-df-convert {\n",
              "      background-color: #3B4455;\n",
              "      fill: #D2E3FC;\n",
              "    }\n",
              "\n",
              "    [theme=dark] .colab-df-convert:hover {\n",
              "      background-color: #434B5C;\n",
              "      box-shadow: 0px 1px 3px 1px rgba(0, 0, 0, 0.15);\n",
              "      filter: drop-shadow(0px 1px 2px rgba(0, 0, 0, 0.3));\n",
              "      fill: #FFFFFF;\n",
              "    }\n",
              "  </style>\n",
              "\n",
              "      <script>\n",
              "        const buttonEl =\n",
              "          document.querySelector('#df-32f27d36-adc3-42bd-a4f4-35eb706cfa8d button.colab-df-convert');\n",
              "        buttonEl.style.display =\n",
              "          google.colab.kernel.accessAllowed ? 'block' : 'none';\n",
              "\n",
              "        async function convertToInteractive(key) {\n",
              "          const element = document.querySelector('#df-32f27d36-adc3-42bd-a4f4-35eb706cfa8d');\n",
              "          const dataTable =\n",
              "            await google.colab.kernel.invokeFunction('convertToInteractive',\n",
              "                                                     [key], {});\n",
              "          if (!dataTable) return;\n",
              "\n",
              "          const docLinkHtml = 'Like what you see? Visit the ' +\n",
              "            '<a target=\"_blank\" href=https://colab.research.google.com/notebooks/data_table.ipynb>data table notebook</a>'\n",
              "            + ' to learn more about interactive tables.';\n",
              "          element.innerHTML = '';\n",
              "          dataTable['output_type'] = 'display_data';\n",
              "          await google.colab.output.renderOutput(dataTable, element);\n",
              "          const docLink = document.createElement('div');\n",
              "          docLink.innerHTML = docLinkHtml;\n",
              "          element.appendChild(docLink);\n",
              "        }\n",
              "      </script>\n",
              "    </div>\n",
              "  </div>\n",
              "  "
            ]
          },
          "metadata": {},
          "execution_count": 2
        }
      ]
    },
    {
      "cell_type": "code",
      "source": [
        "#Getting percentage of missing data\n",
        "print((articles.isnull().sum()/len(articles))*100)\n",
        "\n",
        "#Function to check for unique values\n",
        "def unique_values(data):\n",
        "    total = data.count()\n",
        "    tt = pd.DataFrame(total)\n",
        "    tt.columns = ['Total']\n",
        "    uniques = []\n",
        "    for col in data.columns:\n",
        "        unique = data[col].nunique()\n",
        "        uniques.append(unique)\n",
        "    tt['Uniques'] = uniques\n",
        "    return tt\n",
        "\n",
        "unique_values(articles)\n",
        "##Small few duplicates "
      ],
      "metadata": {
        "id": "DfVvL6Trm9w-",
        "colab": {
          "base_uri": "https://localhost:8080/",
          "height": 413
        },
        "outputId": "9b93a6af-8581-4d35-d5f5-5d6e8772bc6a"
      },
      "execution_count": null,
      "outputs": [
        {
          "output_type": "stream",
          "name": "stdout",
          "text": [
            "article_id            0.00000\n",
            "sectionName           0.00000\n",
            "webTitle              0.00000\n",
            "webUrl                0.00000\n",
            "bodyContent           0.73946\n",
            "webPublicationDate    0.00000\n",
            "id                    0.00000\n",
            "dtype: float64\n"
          ]
        },
        {
          "output_type": "execute_result",
          "data": {
            "text/plain": [
              "                     Total  Uniques\n",
              "article_id          149839   149828\n",
              "sectionName         149839      164\n",
              "webTitle            149839   148197\n",
              "webUrl              149839   149828\n",
              "bodyContent         148731   148440\n",
              "webPublicationDate  149839   120658\n",
              "id                  149839   149839"
            ],
            "text/html": [
              "\n",
              "  <div id=\"df-75403a38-fba3-4d67-961b-526b64229a27\">\n",
              "    <div class=\"colab-df-container\">\n",
              "      <div>\n",
              "<style scoped>\n",
              "    .dataframe tbody tr th:only-of-type {\n",
              "        vertical-align: middle;\n",
              "    }\n",
              "\n",
              "    .dataframe tbody tr th {\n",
              "        vertical-align: top;\n",
              "    }\n",
              "\n",
              "    .dataframe thead th {\n",
              "        text-align: right;\n",
              "    }\n",
              "</style>\n",
              "<table border=\"1\" class=\"dataframe\">\n",
              "  <thead>\n",
              "    <tr style=\"text-align: right;\">\n",
              "      <th></th>\n",
              "      <th>Total</th>\n",
              "      <th>Uniques</th>\n",
              "    </tr>\n",
              "  </thead>\n",
              "  <tbody>\n",
              "    <tr>\n",
              "      <th>article_id</th>\n",
              "      <td>149839</td>\n",
              "      <td>149828</td>\n",
              "    </tr>\n",
              "    <tr>\n",
              "      <th>sectionName</th>\n",
              "      <td>149839</td>\n",
              "      <td>164</td>\n",
              "    </tr>\n",
              "    <tr>\n",
              "      <th>webTitle</th>\n",
              "      <td>149839</td>\n",
              "      <td>148197</td>\n",
              "    </tr>\n",
              "    <tr>\n",
              "      <th>webUrl</th>\n",
              "      <td>149839</td>\n",
              "      <td>149828</td>\n",
              "    </tr>\n",
              "    <tr>\n",
              "      <th>bodyContent</th>\n",
              "      <td>148731</td>\n",
              "      <td>148440</td>\n",
              "    </tr>\n",
              "    <tr>\n",
              "      <th>webPublicationDate</th>\n",
              "      <td>149839</td>\n",
              "      <td>120658</td>\n",
              "    </tr>\n",
              "    <tr>\n",
              "      <th>id</th>\n",
              "      <td>149839</td>\n",
              "      <td>149839</td>\n",
              "    </tr>\n",
              "  </tbody>\n",
              "</table>\n",
              "</div>\n",
              "      <button class=\"colab-df-convert\" onclick=\"convertToInteractive('df-75403a38-fba3-4d67-961b-526b64229a27')\"\n",
              "              title=\"Convert this dataframe to an interactive table.\"\n",
              "              style=\"display:none;\">\n",
              "        \n",
              "  <svg xmlns=\"http://www.w3.org/2000/svg\" height=\"24px\"viewBox=\"0 0 24 24\"\n",
              "       width=\"24px\">\n",
              "    <path d=\"M0 0h24v24H0V0z\" fill=\"none\"/>\n",
              "    <path d=\"M18.56 5.44l.94 2.06.94-2.06 2.06-.94-2.06-.94-.94-2.06-.94 2.06-2.06.94zm-11 1L8.5 8.5l.94-2.06 2.06-.94-2.06-.94L8.5 2.5l-.94 2.06-2.06.94zm10 10l.94 2.06.94-2.06 2.06-.94-2.06-.94-.94-2.06-.94 2.06-2.06.94z\"/><path d=\"M17.41 7.96l-1.37-1.37c-.4-.4-.92-.59-1.43-.59-.52 0-1.04.2-1.43.59L10.3 9.45l-7.72 7.72c-.78.78-.78 2.05 0 2.83L4 21.41c.39.39.9.59 1.41.59.51 0 1.02-.2 1.41-.59l7.78-7.78 2.81-2.81c.8-.78.8-2.07 0-2.86zM5.41 20L4 18.59l7.72-7.72 1.47 1.35L5.41 20z\"/>\n",
              "  </svg>\n",
              "      </button>\n",
              "      \n",
              "  <style>\n",
              "    .colab-df-container {\n",
              "      display:flex;\n",
              "      flex-wrap:wrap;\n",
              "      gap: 12px;\n",
              "    }\n",
              "\n",
              "    .colab-df-convert {\n",
              "      background-color: #E8F0FE;\n",
              "      border: none;\n",
              "      border-radius: 50%;\n",
              "      cursor: pointer;\n",
              "      display: none;\n",
              "      fill: #1967D2;\n",
              "      height: 32px;\n",
              "      padding: 0 0 0 0;\n",
              "      width: 32px;\n",
              "    }\n",
              "\n",
              "    .colab-df-convert:hover {\n",
              "      background-color: #E2EBFA;\n",
              "      box-shadow: 0px 1px 2px rgba(60, 64, 67, 0.3), 0px 1px 3px 1px rgba(60, 64, 67, 0.15);\n",
              "      fill: #174EA6;\n",
              "    }\n",
              "\n",
              "    [theme=dark] .colab-df-convert {\n",
              "      background-color: #3B4455;\n",
              "      fill: #D2E3FC;\n",
              "    }\n",
              "\n",
              "    [theme=dark] .colab-df-convert:hover {\n",
              "      background-color: #434B5C;\n",
              "      box-shadow: 0px 1px 3px 1px rgba(0, 0, 0, 0.15);\n",
              "      filter: drop-shadow(0px 1px 2px rgba(0, 0, 0, 0.3));\n",
              "      fill: #FFFFFF;\n",
              "    }\n",
              "  </style>\n",
              "\n",
              "      <script>\n",
              "        const buttonEl =\n",
              "          document.querySelector('#df-75403a38-fba3-4d67-961b-526b64229a27 button.colab-df-convert');\n",
              "        buttonEl.style.display =\n",
              "          google.colab.kernel.accessAllowed ? 'block' : 'none';\n",
              "\n",
              "        async function convertToInteractive(key) {\n",
              "          const element = document.querySelector('#df-75403a38-fba3-4d67-961b-526b64229a27');\n",
              "          const dataTable =\n",
              "            await google.colab.kernel.invokeFunction('convertToInteractive',\n",
              "                                                     [key], {});\n",
              "          if (!dataTable) return;\n",
              "\n",
              "          const docLinkHtml = 'Like what you see? Visit the ' +\n",
              "            '<a target=\"_blank\" href=https://colab.research.google.com/notebooks/data_table.ipynb>data table notebook</a>'\n",
              "            + ' to learn more about interactive tables.';\n",
              "          element.innerHTML = '';\n",
              "          dataTable['output_type'] = 'display_data';\n",
              "          await google.colab.output.renderOutput(dataTable, element);\n",
              "          const docLink = document.createElement('div');\n",
              "          docLink.innerHTML = docLinkHtml;\n",
              "          element.appendChild(docLink);\n",
              "        }\n",
              "      </script>\n",
              "    </div>\n",
              "  </div>\n",
              "  "
            ]
          },
          "metadata": {},
          "execution_count": 3
        }
      ]
    },
    {
      "cell_type": "code",
      "source": [
        "#Removing articles without content\n",
        "articles_clean = pd.DataFrame(articles[~articles.bodyContent.isnull()])\n",
        "\n",
        "#Sampling 10% of articles for testing\n",
        "articles_sample = articles_clean.sample(frac = 0.8, random_state = 42)\n",
        "print(articles_sample.shape)"
      ],
      "metadata": {
        "id": "gZFtfdqLSGJo",
        "colab": {
          "base_uri": "https://localhost:8080/"
        },
        "outputId": "aa439718-2933-4e81-b82a-da0e1b104dad"
      },
      "execution_count": null,
      "outputs": [
        {
          "output_type": "stream",
          "name": "stdout",
          "text": [
            "(118985, 7)\n"
          ]
        }
      ]
    },
    {
      "cell_type": "code",
      "source": [
        "#Create number of categories\n",
        "section_count = 30\n",
        "\n",
        "count_section_name = articles_sample.groupby(\"sectionName\").count()['article_id'].reset_index()\n",
        "count_section_name = count_section_name.sort_values(\"article_id\", ascending=False)[:section_count]\n",
        "\n",
        "#Mapping Section Names to Integers as Category ID\n",
        "model_data = articles_sample[[\"bodyContent\",\"sectionName\"]]\n",
        "model_data = model_data[model_data.sectionName.isin(count_section_name.sectionName)]\n",
        "model_data[\"sectionName\"] = model_data[\"sectionName\"].astype('category')\n",
        "model_data[\"category_id\"] = model_data[\"sectionName\"].cat.codes\n",
        "model_data.head()\n",
        "\n",
        "id_to_category = pd.Series(model_data.sectionName.values,index=model_data.category_id).to_dict()\n",
        "id_to_category"
      ],
      "metadata": {
        "id": "oHqEfC0GSG0h",
        "colab": {
          "base_uri": "https://localhost:8080/"
        },
        "outputId": "adabb333-f141-40b4-d5cf-1966e483b5ee"
      },
      "execution_count": null,
      "outputs": [
        {
          "output_type": "execute_result",
          "data": {
            "text/plain": [
              "{27: 'UK news',\n",
              " 18: 'Opinion',\n",
              " 29: 'World news',\n",
              " 3: 'Business',\n",
              " 11: 'Global development',\n",
              " 10: 'Football',\n",
              " 2: 'Books',\n",
              " 24: 'Technology',\n",
              " 21: 'Society',\n",
              " 23: 'Stage',\n",
              " 22: 'Sport',\n",
              " 16: 'Music',\n",
              " 1: 'Australia news',\n",
              " 8: 'Film',\n",
              " 28: 'US news',\n",
              " 7: 'Fashion',\n",
              " 14: 'Media',\n",
              " 9: 'Food',\n",
              " 19: 'Politics',\n",
              " 0: 'Art and design',\n",
              " 20: 'Science',\n",
              " 6: 'Environment',\n",
              " 17: 'News',\n",
              " 25: 'Television & radio',\n",
              " 15: 'Money',\n",
              " 13: 'Life and style',\n",
              " 26: 'Travel',\n",
              " 5: 'Education',\n",
              " 12: 'Law',\n",
              " 4: 'Culture'}"
            ]
          },
          "metadata": {},
          "execution_count": 5
        }
      ]
    },
    {
      "cell_type": "code",
      "source": [
        "model_data.groupby(\"sectionName\").count()[\"bodyContent\"].reset_index().sort_values(\"bodyContent\", ascending = False)"
      ],
      "metadata": {
        "colab": {
          "base_uri": "https://localhost:8080/",
          "height": 990
        },
        "id": "Zx_ifIShawmZ",
        "outputId": "3a273ea4-47d6-4af0-9093-07bb30d40363"
      },
      "execution_count": null,
      "outputs": [
        {
          "output_type": "execute_result",
          "data": {
            "text/plain": [
              "           sectionName  bodyContent\n",
              "29          World news        12417\n",
              "18             Opinion         9598\n",
              "10            Football         8560\n",
              "22               Sport         8238\n",
              "1       Australia news         6315\n",
              "28             US news         5975\n",
              "19            Politics         5627\n",
              "3             Business         5577\n",
              "27             UK news         5108\n",
              "16               Music         4649\n",
              "13      Life and style         4469\n",
              "2                Books         4078\n",
              "8                 Film         3985\n",
              "6          Environment         3918\n",
              "21             Society         3772\n",
              "25  Television & radio         3403\n",
              "23               Stage         1976\n",
              "24          Technology         1858\n",
              "14               Media         1791\n",
              "0       Art and design         1766\n",
              "15               Money         1633\n",
              "9                 Food         1591\n",
              "5            Education         1584\n",
              "4              Culture         1356\n",
              "20             Science         1300\n",
              "11  Global development         1202\n",
              "26              Travel         1108\n",
              "7              Fashion         1054\n",
              "17                News         1050\n",
              "12                 Law          472"
            ],
            "text/html": [
              "\n",
              "  <div id=\"df-a59c1d43-1b0d-4bf7-9612-a2cc9673d1cd\">\n",
              "    <div class=\"colab-df-container\">\n",
              "      <div>\n",
              "<style scoped>\n",
              "    .dataframe tbody tr th:only-of-type {\n",
              "        vertical-align: middle;\n",
              "    }\n",
              "\n",
              "    .dataframe tbody tr th {\n",
              "        vertical-align: top;\n",
              "    }\n",
              "\n",
              "    .dataframe thead th {\n",
              "        text-align: right;\n",
              "    }\n",
              "</style>\n",
              "<table border=\"1\" class=\"dataframe\">\n",
              "  <thead>\n",
              "    <tr style=\"text-align: right;\">\n",
              "      <th></th>\n",
              "      <th>sectionName</th>\n",
              "      <th>bodyContent</th>\n",
              "    </tr>\n",
              "  </thead>\n",
              "  <tbody>\n",
              "    <tr>\n",
              "      <th>29</th>\n",
              "      <td>World news</td>\n",
              "      <td>12417</td>\n",
              "    </tr>\n",
              "    <tr>\n",
              "      <th>18</th>\n",
              "      <td>Opinion</td>\n",
              "      <td>9598</td>\n",
              "    </tr>\n",
              "    <tr>\n",
              "      <th>10</th>\n",
              "      <td>Football</td>\n",
              "      <td>8560</td>\n",
              "    </tr>\n",
              "    <tr>\n",
              "      <th>22</th>\n",
              "      <td>Sport</td>\n",
              "      <td>8238</td>\n",
              "    </tr>\n",
              "    <tr>\n",
              "      <th>1</th>\n",
              "      <td>Australia news</td>\n",
              "      <td>6315</td>\n",
              "    </tr>\n",
              "    <tr>\n",
              "      <th>28</th>\n",
              "      <td>US news</td>\n",
              "      <td>5975</td>\n",
              "    </tr>\n",
              "    <tr>\n",
              "      <th>19</th>\n",
              "      <td>Politics</td>\n",
              "      <td>5627</td>\n",
              "    </tr>\n",
              "    <tr>\n",
              "      <th>3</th>\n",
              "      <td>Business</td>\n",
              "      <td>5577</td>\n",
              "    </tr>\n",
              "    <tr>\n",
              "      <th>27</th>\n",
              "      <td>UK news</td>\n",
              "      <td>5108</td>\n",
              "    </tr>\n",
              "    <tr>\n",
              "      <th>16</th>\n",
              "      <td>Music</td>\n",
              "      <td>4649</td>\n",
              "    </tr>\n",
              "    <tr>\n",
              "      <th>13</th>\n",
              "      <td>Life and style</td>\n",
              "      <td>4469</td>\n",
              "    </tr>\n",
              "    <tr>\n",
              "      <th>2</th>\n",
              "      <td>Books</td>\n",
              "      <td>4078</td>\n",
              "    </tr>\n",
              "    <tr>\n",
              "      <th>8</th>\n",
              "      <td>Film</td>\n",
              "      <td>3985</td>\n",
              "    </tr>\n",
              "    <tr>\n",
              "      <th>6</th>\n",
              "      <td>Environment</td>\n",
              "      <td>3918</td>\n",
              "    </tr>\n",
              "    <tr>\n",
              "      <th>21</th>\n",
              "      <td>Society</td>\n",
              "      <td>3772</td>\n",
              "    </tr>\n",
              "    <tr>\n",
              "      <th>25</th>\n",
              "      <td>Television &amp; radio</td>\n",
              "      <td>3403</td>\n",
              "    </tr>\n",
              "    <tr>\n",
              "      <th>23</th>\n",
              "      <td>Stage</td>\n",
              "      <td>1976</td>\n",
              "    </tr>\n",
              "    <tr>\n",
              "      <th>24</th>\n",
              "      <td>Technology</td>\n",
              "      <td>1858</td>\n",
              "    </tr>\n",
              "    <tr>\n",
              "      <th>14</th>\n",
              "      <td>Media</td>\n",
              "      <td>1791</td>\n",
              "    </tr>\n",
              "    <tr>\n",
              "      <th>0</th>\n",
              "      <td>Art and design</td>\n",
              "      <td>1766</td>\n",
              "    </tr>\n",
              "    <tr>\n",
              "      <th>15</th>\n",
              "      <td>Money</td>\n",
              "      <td>1633</td>\n",
              "    </tr>\n",
              "    <tr>\n",
              "      <th>9</th>\n",
              "      <td>Food</td>\n",
              "      <td>1591</td>\n",
              "    </tr>\n",
              "    <tr>\n",
              "      <th>5</th>\n",
              "      <td>Education</td>\n",
              "      <td>1584</td>\n",
              "    </tr>\n",
              "    <tr>\n",
              "      <th>4</th>\n",
              "      <td>Culture</td>\n",
              "      <td>1356</td>\n",
              "    </tr>\n",
              "    <tr>\n",
              "      <th>20</th>\n",
              "      <td>Science</td>\n",
              "      <td>1300</td>\n",
              "    </tr>\n",
              "    <tr>\n",
              "      <th>11</th>\n",
              "      <td>Global development</td>\n",
              "      <td>1202</td>\n",
              "    </tr>\n",
              "    <tr>\n",
              "      <th>26</th>\n",
              "      <td>Travel</td>\n",
              "      <td>1108</td>\n",
              "    </tr>\n",
              "    <tr>\n",
              "      <th>7</th>\n",
              "      <td>Fashion</td>\n",
              "      <td>1054</td>\n",
              "    </tr>\n",
              "    <tr>\n",
              "      <th>17</th>\n",
              "      <td>News</td>\n",
              "      <td>1050</td>\n",
              "    </tr>\n",
              "    <tr>\n",
              "      <th>12</th>\n",
              "      <td>Law</td>\n",
              "      <td>472</td>\n",
              "    </tr>\n",
              "  </tbody>\n",
              "</table>\n",
              "</div>\n",
              "      <button class=\"colab-df-convert\" onclick=\"convertToInteractive('df-a59c1d43-1b0d-4bf7-9612-a2cc9673d1cd')\"\n",
              "              title=\"Convert this dataframe to an interactive table.\"\n",
              "              style=\"display:none;\">\n",
              "        \n",
              "  <svg xmlns=\"http://www.w3.org/2000/svg\" height=\"24px\"viewBox=\"0 0 24 24\"\n",
              "       width=\"24px\">\n",
              "    <path d=\"M0 0h24v24H0V0z\" fill=\"none\"/>\n",
              "    <path d=\"M18.56 5.44l.94 2.06.94-2.06 2.06-.94-2.06-.94-.94-2.06-.94 2.06-2.06.94zm-11 1L8.5 8.5l.94-2.06 2.06-.94-2.06-.94L8.5 2.5l-.94 2.06-2.06.94zm10 10l.94 2.06.94-2.06 2.06-.94-2.06-.94-.94-2.06-.94 2.06-2.06.94z\"/><path d=\"M17.41 7.96l-1.37-1.37c-.4-.4-.92-.59-1.43-.59-.52 0-1.04.2-1.43.59L10.3 9.45l-7.72 7.72c-.78.78-.78 2.05 0 2.83L4 21.41c.39.39.9.59 1.41.59.51 0 1.02-.2 1.41-.59l7.78-7.78 2.81-2.81c.8-.78.8-2.07 0-2.86zM5.41 20L4 18.59l7.72-7.72 1.47 1.35L5.41 20z\"/>\n",
              "  </svg>\n",
              "      </button>\n",
              "      \n",
              "  <style>\n",
              "    .colab-df-container {\n",
              "      display:flex;\n",
              "      flex-wrap:wrap;\n",
              "      gap: 12px;\n",
              "    }\n",
              "\n",
              "    .colab-df-convert {\n",
              "      background-color: #E8F0FE;\n",
              "      border: none;\n",
              "      border-radius: 50%;\n",
              "      cursor: pointer;\n",
              "      display: none;\n",
              "      fill: #1967D2;\n",
              "      height: 32px;\n",
              "      padding: 0 0 0 0;\n",
              "      width: 32px;\n",
              "    }\n",
              "\n",
              "    .colab-df-convert:hover {\n",
              "      background-color: #E2EBFA;\n",
              "      box-shadow: 0px 1px 2px rgba(60, 64, 67, 0.3), 0px 1px 3px 1px rgba(60, 64, 67, 0.15);\n",
              "      fill: #174EA6;\n",
              "    }\n",
              "\n",
              "    [theme=dark] .colab-df-convert {\n",
              "      background-color: #3B4455;\n",
              "      fill: #D2E3FC;\n",
              "    }\n",
              "\n",
              "    [theme=dark] .colab-df-convert:hover {\n",
              "      background-color: #434B5C;\n",
              "      box-shadow: 0px 1px 3px 1px rgba(0, 0, 0, 0.15);\n",
              "      filter: drop-shadow(0px 1px 2px rgba(0, 0, 0, 0.3));\n",
              "      fill: #FFFFFF;\n",
              "    }\n",
              "  </style>\n",
              "\n",
              "      <script>\n",
              "        const buttonEl =\n",
              "          document.querySelector('#df-a59c1d43-1b0d-4bf7-9612-a2cc9673d1cd button.colab-df-convert');\n",
              "        buttonEl.style.display =\n",
              "          google.colab.kernel.accessAllowed ? 'block' : 'none';\n",
              "\n",
              "        async function convertToInteractive(key) {\n",
              "          const element = document.querySelector('#df-a59c1d43-1b0d-4bf7-9612-a2cc9673d1cd');\n",
              "          const dataTable =\n",
              "            await google.colab.kernel.invokeFunction('convertToInteractive',\n",
              "                                                     [key], {});\n",
              "          if (!dataTable) return;\n",
              "\n",
              "          const docLinkHtml = 'Like what you see? Visit the ' +\n",
              "            '<a target=\"_blank\" href=https://colab.research.google.com/notebooks/data_table.ipynb>data table notebook</a>'\n",
              "            + ' to learn more about interactive tables.';\n",
              "          element.innerHTML = '';\n",
              "          dataTable['output_type'] = 'display_data';\n",
              "          await google.colab.output.renderOutput(dataTable, element);\n",
              "          const docLink = document.createElement('div');\n",
              "          docLink.innerHTML = docLinkHtml;\n",
              "          element.appendChild(docLink);\n",
              "        }\n",
              "      </script>\n",
              "    </div>\n",
              "  </div>\n",
              "  "
            ]
          },
          "metadata": {},
          "execution_count": 10
        }
      ]
    },
    {
      "cell_type": "code",
      "source": [
        "np.save('/content/drive/MyDrive/Deep_Learning_Models/id_to_category.npy', id_to_category)"
      ],
      "metadata": {
        "id": "WjFyFpqmXT9x"
      },
      "execution_count": null,
      "outputs": []
    },
    {
      "cell_type": "code",
      "source": [
        "#articles_sample.groupby(\"sectionName\").count()['article_id'].reset_index().sort_values(\"article_id\", ascending = False)[:50]"
      ],
      "metadata": {
        "id": "MDTGGu1SjDXt"
      },
      "execution_count": null,
      "outputs": []
    },
    {
      "cell_type": "code",
      "source": [
        "\n",
        "\n",
        "#Creating Train, Validation and Test Sets\n",
        "train, validate, test = np.split(model_data.sample(frac=1, random_state=42), [int(.8*len(model_data)), int(.9*len(model_data))])\n",
        "print(train.shape)\n",
        "print(validate.shape)\n",
        "print(test.shape)\n",
        "\n",
        "#Splitting out datasets\n",
        "x_train = train.bodyContent\n",
        "y_train = train.category_id\n",
        "x_val = validate.bodyContent\n",
        "y_val = validate.category_id\n",
        "x_test = test.bodyContent\n",
        "y_test = test.category_id"
      ],
      "metadata": {
        "colab": {
          "base_uri": "https://localhost:8080/"
        },
        "id": "7cHiYZTlIPfc",
        "outputId": "9a4bdb5d-5553-46d3-f979-b31d282d0a2b"
      },
      "execution_count": null,
      "outputs": [
        {
          "output_type": "stream",
          "name": "stdout",
          "text": [
            "(92344, 3)\n",
            "(11543, 3)\n",
            "(11543, 3)\n"
          ]
        }
      ]
    },
    {
      "cell_type": "code",
      "source": [
        "\n",
        "# initialize Tokenizer with num_words parameter\n",
        "##tokenizer = Tokenizer(num_words=None, oov_token=\"<OOV>\", filters='!\"#$%&()*+,-./:;<=>?@[\\\\]^_`{|}~\\t\\n', lower=True, split=' ', char_level=False)\n",
        "\n",
        "# fit_on_texts and transform text data\n",
        "#tokenizer.fit_on_texts(x_train)\n",
        "\n",
        "# set vocabulary size based on minimum frequency threshold\n",
        "#vocab_size = len([w for w, c in tokenizer.word_counts.items() if c >= 50])\n",
        "#print(\"The number of workds that occure >=20 times is:\" + vocab_size)\n"
      ],
      "metadata": {
        "colab": {
          "base_uri": "https://localhost:8080/"
        },
        "id": "aBZrJAM4Uu_G",
        "outputId": "ffad2274-f898-4b5c-e7bc-2cb08c2c4052"
      },
      "execution_count": null,
      "outputs": [
        {
          "output_type": "execute_result",
          "data": {
            "text/plain": [
              "39987"
            ]
          },
          "metadata": {},
          "execution_count": 16
        }
      ]
    },
    {
      "cell_type": "code",
      "source": [
        "\n",
        "\n",
        "#Define hyperparameters\n",
        "max_words = 30000\n",
        "max_len = 100\n",
        "\n",
        "\n",
        "#Create Tokenizer\n",
        "tokenizer = Tokenizer(num_words=max_words)\n",
        "tokenizer.fit_on_texts(x_train)\n",
        "\n",
        "#Tokenise all texts\n",
        "x_train = tokenizer.texts_to_sequences(x_train)\n",
        "x_val = tokenizer.texts_to_sequences(x_val)\n",
        "x_test = tokenizer.texts_to_sequences(x_test)\n",
        "\n",
        "#Padding Arrays\n",
        "x_train = sequence.pad_sequences(x_train, maxlen=max_len)\n",
        "x_val = sequence.pad_sequences(x_val, maxlen=max_len)\n",
        "x_test = sequence.pad_sequences(x_test, maxlen=max_len)\n",
        "\n",
        "# One-hot encode the labels\n",
        "y_train = to_categorical(y_train)\n",
        "y_test = to_categorical(y_test)\n",
        "y_val = to_categorical(y_val)\n",
        "\n",
        "#Create Vocab\n",
        "vocab = tokenizer.word_index\n",
        "print('Found %s unique tokens.' % len(vocab))"
      ],
      "metadata": {
        "id": "RX0_3XRBIKwZ",
        "colab": {
          "base_uri": "https://localhost:8080/"
        },
        "outputId": "00fc94ff-ee95-4eac-972c-270c61f35d1c"
      },
      "execution_count": null,
      "outputs": [
        {
          "output_type": "stream",
          "name": "stdout",
          "text": [
            "Found 436855 unique tokens.\n"
          ]
        }
      ]
    },
    {
      "cell_type": "code",
      "source": [
        "x_bodyContent = test['bodyContent'].to_numpy()"
      ],
      "metadata": {
        "id": "eWX-5fHAi22X"
      },
      "execution_count": null,
      "outputs": []
    },
    {
      "cell_type": "code",
      "source": [
        "#Saving test data to google drive to access later\n",
        "np.save('/content/drive/MyDrive/Deep_Learning_Models/x_body_content.npy', x_bodyContent)\n",
        "np.save('/content/drive/MyDrive/Deep_Learning_Models/x_test_pt1.npy', x_test)\n",
        "np.save('/content/drive/MyDrive/Deep_Learning_Models/y_test_pt1.npy', y_test)"
      ],
      "metadata": {
        "id": "rTuZmGrMooEC"
      },
      "execution_count": null,
      "outputs": []
    },
    {
      "cell_type": "markdown",
      "source": [
        "## RNNs"
      ],
      "metadata": {
        "id": "Yf-peDJCdGFr"
      }
    },
    {
      "cell_type": "code",
      "source": [
        "\n",
        "\n",
        "callback = [\n",
        "    EarlyStopping(monitor='val_accuracy', patience=3,restore_best_weights=True)\n",
        "]\n"
      ],
      "metadata": {
        "id": "U07mpH6yI8vP"
      },
      "execution_count": null,
      "outputs": []
    },
    {
      "cell_type": "code",
      "source": [
        "def display_training_history(training_history):\n",
        "    accuracy = training_history.history['accuracy']\n",
        "    val_accuracy = training_history.history['val_accuracy']\n",
        "    plt.title('Model Accuracy Across Epochs')\n",
        "    plt.xlabel('Epoch')\n",
        "    plt.ylabel('Accuracy')\n",
        "    plt.plot(accuracy, label='Training Data')\n",
        "    plt.plot(val_accuracy, label='Validation Data')\n",
        "    plt.legend()\n",
        "    plt.show()\n",
        "\n"
      ],
      "metadata": {
        "id": "2slULpAPwNmc"
      },
      "execution_count": null,
      "outputs": []
    },
    {
      "cell_type": "code",
      "source": [
        "# 1. Simple Model\n",
        "\n",
        "#simple_model Parameters\n",
        "embedding_dims = 32\n",
        "epochs = 10\n",
        "\n",
        "#simpleModel Architecture\n",
        "simple_model = Sequential()\n",
        "simple_model.add(Embedding(max_words,\n",
        "                    embedding_dims,\n",
        "                    input_length=max_len))\n",
        "simple_model.add(Flatten())\n",
        "simple_model.add(Dense(2, activation='tanh'))\n",
        "simple_model.add(Dense(section_count,activation=\"softmax\"))\n",
        "simple_model.summary()\n",
        "simple_model.compile(optimizer='adam',\n",
        "              loss=tf.keras.losses.CategoricalCrossentropy(),\n",
        "              metrics=['accuracy'])\n",
        "\n",
        "#Fit simple_model\n",
        "history = simple_model.fit(x_train, y_train,\n",
        "          batch_size=32,\n",
        "          epochs=epochs,\n",
        "          callbacks=[callback],\n",
        "          validation_data=(x_test, y_test))"
      ],
      "metadata": {
        "id": "-2bZ5PS0Sj7Z",
        "colab": {
          "base_uri": "https://localhost:8080/"
        },
        "outputId": "e7cb93e5-a6ab-427a-dc56-688e02786cd1"
      },
      "execution_count": null,
      "outputs": [
        {
          "output_type": "stream",
          "name": "stdout",
          "text": [
            "Model: \"sequential\"\n",
            "_________________________________________________________________\n",
            " Layer (type)                Output Shape              Param #   \n",
            "=================================================================\n",
            " embedding (Embedding)       (None, 100, 32)           960000    \n",
            "                                                                 \n",
            " flatten (Flatten)           (None, 3200)              0         \n",
            "                                                                 \n",
            " dense (Dense)               (None, 2)                 6402      \n",
            "                                                                 \n",
            " dense_1 (Dense)             (None, 30)                90        \n",
            "                                                                 \n",
            "=================================================================\n",
            "Total params: 966,492\n",
            "Trainable params: 966,492\n",
            "Non-trainable params: 0\n",
            "_________________________________________________________________\n",
            "Epoch 1/10\n",
            "2886/2886 [==============================] - 55s 17ms/step - loss: 2.8033 - accuracy: 0.1875 - val_loss: 2.5364 - val_accuracy: 0.2414\n",
            "Epoch 2/10\n",
            "2886/2886 [==============================] - 12s 4ms/step - loss: 2.3424 - accuracy: 0.2673 - val_loss: 2.4461 - val_accuracy: 0.2478\n",
            "Epoch 3/10\n",
            "2886/2886 [==============================] - 11s 4ms/step - loss: 2.0847 - accuracy: 0.3030 - val_loss: 2.4670 - val_accuracy: 0.2481\n",
            "Epoch 4/10\n",
            "2886/2886 [==============================] - 9s 3ms/step - loss: 1.9339 - accuracy: 0.3415 - val_loss: 2.5322 - val_accuracy: 0.2488\n",
            "Epoch 5/10\n",
            "2886/2886 [==============================] - 10s 3ms/step - loss: 1.8620 - accuracy: 0.3620 - val_loss: 2.5835 - val_accuracy: 0.2445\n",
            "Epoch 6/10\n",
            "2886/2886 [==============================] - 10s 3ms/step - loss: 1.8048 - accuracy: 0.3786 - val_loss: 2.6091 - val_accuracy: 0.2497\n",
            "Epoch 7/10\n",
            "2886/2886 [==============================] - 10s 3ms/step - loss: 1.7496 - accuracy: 0.3966 - val_loss: 2.6401 - val_accuracy: 0.2570\n",
            "Epoch 8/10\n",
            "2886/2886 [==============================] - 9s 3ms/step - loss: 1.6940 - accuracy: 0.4126 - val_loss: 2.6803 - val_accuracy: 0.2549\n",
            "Epoch 9/10\n",
            "2886/2886 [==============================] - 9s 3ms/step - loss: 1.6477 - accuracy: 0.4282 - val_loss: 2.7040 - val_accuracy: 0.2634\n",
            "Epoch 10/10\n",
            "2886/2886 [==============================] - 9s 3ms/step - loss: 1.5982 - accuracy: 0.4496 - val_loss: 2.7385 - val_accuracy: 0.2640\n"
          ]
        }
      ]
    },
    {
      "cell_type": "code",
      "source": [
        "display_training_history(history)"
      ],
      "metadata": {
        "id": "EiOhgGPJHKnw",
        "colab": {
          "base_uri": "https://localhost:8080/",
          "height": 472
        },
        "outputId": "02544f15-c617-421b-d5e5-17b8a9cf6afe"
      },
      "execution_count": null,
      "outputs": [
        {
          "output_type": "display_data",
          "data": {
            "text/plain": [
              "<Figure size 640x480 with 1 Axes>"
            ],
            "image/png": "[encoded data removed]"
          },
          "metadata": {}
        }
      ]
    },
    {
      "cell_type": "code",
      "source": [
        "# 2. RNN Model\n",
        "\n",
        "#rnn_model Parameters\n",
        "embedding_dims = 32\n",
        "epochs = 20\n",
        "\n",
        "# RnnModel \n",
        "rnn_model = Sequential()\n",
        "rnn_model.add(Embedding(max_words,\n",
        "                    embedding_dims,\n",
        "                    input_length=max_len))\n",
        "rnn_model.add(SimpleRNN(embedding_dims))\n",
        "rnn_model.add(Dense(64, activation='tanh'))\n",
        "rnn_model.add(Dense(section_count,activation=\"softmax\"))\n",
        "rnn_model.summary()\n",
        "\n",
        "rnn_model.compile(optimizer='adam',\n",
        "              loss=tf.keras.losses.BinaryCrossentropy(),\n",
        "              metrics=['accuracy'])\n",
        "\n",
        "history = rnn_model.fit(x_train, y_train,\n",
        "          batch_size=32,\n",
        "          epochs=epochs,\n",
        "          callbacks=[callback],\n",
        "          validation_data=(x_test, y_test))"
      ],
      "metadata": {
        "id": "6n81DzWGS1AE",
        "colab": {
          "base_uri": "https://localhost:8080/"
        },
        "outputId": "6c319dea-0471-44f6-efb5-3781d9aecd9e"
      },
      "execution_count": null,
      "outputs": [
        {
          "output_type": "stream",
          "name": "stdout",
          "text": [
            "Model: \"sequential_1\"\n",
            "_________________________________________________________________\n",
            " Layer (type)                Output Shape              Param #   \n",
            "=================================================================\n",
            " embedding_1 (Embedding)     (None, 100, 32)           960000    \n",
            "                                                                 \n",
            " simple_rnn (SimpleRNN)      (None, 32)                2080      \n",
            "                                                                 \n",
            " dense_2 (Dense)             (None, 64)                2112      \n",
            "                                                                 \n",
            " dense_3 (Dense)             (None, 30)                1950      \n",
            "                                                                 \n",
            "=================================================================\n",
            "Total params: 966,142\n",
            "Trainable params: 966,142\n",
            "Non-trainable params: 0\n",
            "_________________________________________________________________\n",
            "Epoch 1/20\n",
            "2886/2886 [==============================] - 234s 80ms/step - loss: 0.1345 - accuracy: 0.1675 - val_loss: 0.1238 - val_accuracy: 0.2272\n",
            "Epoch 2/20\n",
            "2886/2886 [==============================] - 203s 70ms/step - loss: 0.1159 - accuracy: 0.2747 - val_loss: 0.1231 - val_accuracy: 0.2453\n",
            "Epoch 3/20\n",
            "2886/2886 [==============================] - 204s 71ms/step - loss: 0.1073 - accuracy: 0.3259 - val_loss: 0.1094 - val_accuracy: 0.3027\n",
            "Epoch 4/20\n",
            "2886/2886 [==============================] - 203s 70ms/step - loss: 0.1030 - accuracy: 0.3648 - val_loss: 0.1119 - val_accuracy: 0.3011\n",
            "Epoch 5/20\n",
            "2886/2886 [==============================] - 202s 70ms/step - loss: 0.0943 - accuracy: 0.4273 - val_loss: 0.1110 - val_accuracy: 0.3154\n",
            "Epoch 6/20\n",
            "2886/2886 [==============================] - 203s 70ms/step - loss: 0.0893 - accuracy: 0.4714 - val_loss: 0.1224 - val_accuracy: 0.2644\n",
            "Epoch 7/20\n",
            "2886/2886 [==============================] - 203s 70ms/step - loss: 0.0917 - accuracy: 0.4607 - val_loss: 0.1228 - val_accuracy: 0.2777\n",
            "Epoch 8/20\n",
            "2886/2886 [==============================] - 203s 70ms/step - loss: 0.0864 - accuracy: 0.4976 - val_loss: 0.1254 - val_accuracy: 0.2768\n"
          ]
        }
      ]
    },
    {
      "cell_type": "code",
      "source": [
        "display_training_history(history)"
      ],
      "metadata": {
        "id": "66Tewj3tHMao",
        "colab": {
          "base_uri": "https://localhost:8080/",
          "height": 472
        },
        "outputId": "dc16d932-40fa-455a-c1be-f4be8fe5dd84"
      },
      "execution_count": null,
      "outputs": [
        {
          "output_type": "display_data",
          "data": {
            "text/plain": [
              "<Figure size 640x480 with 1 Axes>"
            ],
            "image/png": "[encoded data removed]"
          },
          "metadata": {}
        }
      ]
    },
    {
      "cell_type": "code",
      "source": [
        "# 3. Single-Layer LSTM\n",
        "\n",
        "\n",
        "#single_lstm_model Parameters\n",
        "embedding_dims = 32\n",
        "epochs = 20\n",
        "\n",
        "#single_lstm_model architecture\n",
        "single_lstm_model = Sequential()\n",
        "single_lstm_model.add(Embedding(max_words, embedding_dims, input_length=max_len))\n",
        "single_lstm_model.add(LSTM(128, kernel_regularizer=l2(0.001)))\n",
        "single_lstm_model.add(Dropout(0.3))\n",
        "single_lstm_model.add(Dense(section_count, activation='softmax'))\n",
        "\n",
        "single_lstm_model.summary()\n",
        "single_lstm_model.compile(optimizer='adam',\n",
        "              loss=tf.keras.losses.CategoricalCrossentropy(),\n",
        "              metrics=['accuracy'])\n",
        "\n",
        "#Fit with data\n",
        "history = single_lstm_model.fit(x_train, y_train,\n",
        "          batch_size=32,\n",
        "          epochs=epochs,\n",
        "          callbacks=[callback],\n",
        "          validation_data=(x_test, y_test))"
      ],
      "metadata": {
        "id": "tre7vgJfTBmC",
        "colab": {
          "base_uri": "https://localhost:8080/"
        },
        "outputId": "3e755ac3-d974-4663-ab7c-7ab2790e5afa"
      },
      "execution_count": null,
      "outputs": [
        {
          "output_type": "stream",
          "name": "stdout",
          "text": [
            "Model: \"sequential_2\"\n",
            "_________________________________________________________________\n",
            " Layer (type)                Output Shape              Param #   \n",
            "=================================================================\n",
            " embedding_2 (Embedding)     (None, 100, 32)           960000    \n",
            "                                                                 \n",
            " lstm (LSTM)                 (None, 128)               82432     \n",
            "                                                                 \n",
            " dropout (Dropout)           (None, 128)               0         \n",
            "                                                                 \n",
            " dense_4 (Dense)             (None, 30)                3870      \n",
            "                                                                 \n",
            "=================================================================\n",
            "Total params: 1,046,302\n",
            "Trainable params: 1,046,302\n",
            "Non-trainable params: 0\n",
            "_________________________________________________________________\n",
            "Epoch 1/20\n",
            "2886/2886 [==============================] - 53s 17ms/step - loss: 2.4695 - accuracy: 0.2766 - val_loss: 2.1123 - val_accuracy: 0.3652\n",
            "Epoch 2/20\n",
            "2886/2886 [==============================] - 22s 8ms/step - loss: 1.9145 - accuracy: 0.4419 - val_loss: 1.8239 - val_accuracy: 0.4894\n",
            "Epoch 3/20\n",
            "2886/2886 [==============================] - 23s 8ms/step - loss: 1.5966 - accuracy: 0.5587 - val_loss: 1.7263 - val_accuracy: 0.5351\n",
            "Epoch 4/20\n",
            "2886/2886 [==============================] - 21s 7ms/step - loss: 1.3781 - accuracy: 0.6312 - val_loss: 1.6189 - val_accuracy: 0.5743\n",
            "Epoch 5/20\n",
            "2886/2886 [==============================] - 20s 7ms/step - loss: 1.2064 - accuracy: 0.6839 - val_loss: 1.5639 - val_accuracy: 0.5868\n",
            "Epoch 6/20\n",
            "2886/2886 [==============================] - 20s 7ms/step - loss: 1.0700 - accuracy: 0.7243 - val_loss: 1.5543 - val_accuracy: 0.5968\n",
            "Epoch 7/20\n",
            "2886/2886 [==============================] - 21s 7ms/step - loss: 0.9527 - accuracy: 0.7574 - val_loss: 1.6173 - val_accuracy: 0.5905\n",
            "Epoch 8/20\n",
            "2886/2886 [==============================] - 21s 7ms/step - loss: 0.8598 - accuracy: 0.7829 - val_loss: 1.6283 - val_accuracy: 0.5961\n",
            "Epoch 9/20\n",
            "2886/2886 [==============================] - 21s 7ms/step - loss: 0.7743 - accuracy: 0.8065 - val_loss: 1.6909 - val_accuracy: 0.5888\n"
          ]
        }
      ]
    },
    {
      "cell_type": "code",
      "source": [
        "display_training_history(history)"
      ],
      "metadata": {
        "id": "Sy2K9hChHGET",
        "colab": {
          "base_uri": "https://localhost:8080/",
          "height": 472
        },
        "outputId": "44be8724-f9cc-4f39-8712-25c2722e5eda"
      },
      "execution_count": null,
      "outputs": [
        {
          "output_type": "display_data",
          "data": {
            "text/plain": [
              "<Figure size 640x480 with 1 Axes>"
            ],
            "image/png": "[encoded data removed]"
          },
          "metadata": {}
        }
      ]
    },
    {
      "cell_type": "code",
      "source": [
        "# 4. Multi-layer LSTM\n",
        "\n",
        "#multi_lstm_model Parameters\n",
        "embedding_dims = 32\n",
        "epochs = 20\n",
        "\n",
        "#Model architecture\n",
        "multi_lstm_model = Sequential()\n",
        "multi_lstm_model.add(Embedding(max_words, embedding_dims))\n",
        "multi_lstm_model.add(LSTM(128,return_sequences=True))\n",
        "multi_lstm_model.add(Dropout(0.3))\n",
        "multi_lstm_model.add(LSTM(64))\n",
        "multi_lstm_model.add(Dropout(0.3))\n",
        "multi_lstm_model.add(Dense(section_count,activation='softmax'))\n",
        "multi_lstm_model.compile(optimizer='adam',\n",
        "              loss=tf.keras.losses.CategoricalCrossentropy(),\n",
        "              metrics=['accuracy'])\n",
        "\n",
        "#Model fit\n",
        "history = multi_lstm_model.fit(x_train, y_train,\n",
        "          batch_size=32,\n",
        "          epochs=epochs,\n",
        "          callbacks=[callback],\n",
        "          validation_data=(x_test, y_test))\n",
        "\n"
      ],
      "metadata": {
        "id": "GzZNeqFQwg_W",
        "colab": {
          "base_uri": "https://localhost:8080/"
        },
        "outputId": "8f3d51d4-c706-4972-f8c1-70ac89590658"
      },
      "execution_count": null,
      "outputs": [
        {
          "output_type": "stream",
          "name": "stdout",
          "text": [
            "Epoch 1/20\n",
            "2886/2886 [==============================] - 67s 22ms/step - loss: 2.4479 - accuracy: 0.2758 - val_loss: 2.0776 - val_accuracy: 0.3782\n",
            "Epoch 2/20\n",
            "2886/2886 [==============================] - 32s 11ms/step - loss: 1.7867 - accuracy: 0.4784 - val_loss: 1.6398 - val_accuracy: 0.5420\n",
            "Epoch 3/20\n",
            "2886/2886 [==============================] - 33s 11ms/step - loss: 1.4235 - accuracy: 0.6061 - val_loss: 1.5216 - val_accuracy: 0.5810\n",
            "Epoch 4/20\n",
            "2886/2886 [==============================] - 34s 12ms/step - loss: 1.1858 - accuracy: 0.6795 - val_loss: 1.4095 - val_accuracy: 0.6163\n",
            "Epoch 5/20\n",
            "2886/2886 [==============================] - 32s 11ms/step - loss: 1.0172 - accuracy: 0.7271 - val_loss: 1.4089 - val_accuracy: 0.6238\n",
            "Epoch 6/20\n",
            "2886/2886 [==============================] - 31s 11ms/step - loss: 0.8812 - accuracy: 0.7637 - val_loss: 1.4478 - val_accuracy: 0.6224\n",
            "Epoch 7/20\n",
            "2886/2886 [==============================] - 31s 11ms/step - loss: 0.7642 - accuracy: 0.7949 - val_loss: 1.5107 - val_accuracy: 0.6188\n",
            "Epoch 8/20\n",
            "2886/2886 [==============================] - 33s 11ms/step - loss: 0.6598 - accuracy: 0.8245 - val_loss: 1.5656 - val_accuracy: 0.6157\n"
          ]
        }
      ]
    },
    {
      "cell_type": "code",
      "source": [
        "multi_lstm_model.summary()"
      ],
      "metadata": {
        "colab": {
          "base_uri": "https://localhost:8080/"
        },
        "id": "NBrPVZFMYLnK",
        "outputId": "f5894463-3dbe-4197-ce78-35ac667de83b"
      },
      "execution_count": null,
      "outputs": [
        {
          "output_type": "stream",
          "name": "stdout",
          "text": [
            "Model: \"sequential_3\"\n",
            "_________________________________________________________________\n",
            " Layer (type)                Output Shape              Param #   \n",
            "=================================================================\n",
            " embedding_3 (Embedding)     (None, None, 32)          960000    \n",
            "                                                                 \n",
            " lstm_1 (LSTM)               (None, None, 128)         82432     \n",
            "                                                                 \n",
            " dropout_1 (Dropout)         (None, None, 128)         0         \n",
            "                                                                 \n",
            " lstm_2 (LSTM)               (None, 64)                49408     \n",
            "                                                                 \n",
            " dropout_2 (Dropout)         (None, 64)                0         \n",
            "                                                                 \n",
            " dense_5 (Dense)             (None, 30)                1950      \n",
            "                                                                 \n",
            "=================================================================\n",
            "Total params: 1,093,790\n",
            "Trainable params: 1,093,790\n",
            "Non-trainable params: 0\n",
            "_________________________________________________________________\n"
          ]
        }
      ]
    },
    {
      "cell_type": "code",
      "source": [
        "display_training_history(history)"
      ],
      "metadata": {
        "colab": {
          "base_uri": "https://localhost:8080/",
          "height": 472
        },
        "id": "_W1lPCiey6nz",
        "outputId": "45ebdacb-5740-42c8-becf-c435bc3a1f85"
      },
      "execution_count": null,
      "outputs": [
        {
          "output_type": "display_data",
          "data": {
            "text/plain": [
              "<Figure size 640x480 with 1 Axes>"
            ],
            "image/png": "[encoded data removed]"
          },
          "metadata": {}
        }
      ]
    },
    {
      "cell_type": "markdown",
      "source": [
        "# Embeddings"
      ],
      "metadata": {
        "id": "RhGCpk6D3YXj"
      }
    },
    {
      "cell_type": "code",
      "source": [
        "#Import Glove Embeddings. There are 4 versions of Glove. This version is trained on wikipedia data with 6bill tokens and 400k vocab.\n",
        "!wget http://nlp.stanford.edu/data/glove.6B.zip\n",
        "!unzip -q glove.6B.zip"
      ],
      "metadata": {
        "id": "lMiruCHY3aeT",
        "colab": {
          "base_uri": "https://localhost:8080/"
        },
        "outputId": "2448d012-f0ff-40b1-ef25-1bd972ffa0ae"
      },
      "execution_count": null,
      "outputs": [
        {
          "output_type": "stream",
          "name": "stdout",
          "text": [
            "--2023-05-05 13:50:29--  http://nlp.stanford.edu/data/glove.6B.zip\n",
            "Resolving nlp.stanford.edu (nlp.stanford.edu)... 171.64.67.140\n",
            "Connecting to nlp.stanford.edu (nlp.stanford.edu)|171.64.67.140|:80... connected.\n",
            "HTTP request sent, awaiting response... 302 Found\n",
            "Location: https://nlp.stanford.edu/data/glove.6B.zip [following]\n",
            "--2023-05-05 13:50:29--  https://nlp.stanford.edu/data/glove.6B.zip\n",
            "Connecting to nlp.stanford.edu (nlp.stanford.edu)|171.64.67.140|:443... connected.\n",
            "HTTP request sent, awaiting response... 301 Moved Permanently\n",
            "Location: https://downloads.cs.stanford.edu/nlp/data/glove.6B.zip [following]\n",
            "--2023-05-05 13:50:29--  https://downloads.cs.stanford.edu/nlp/data/glove.6B.zip\n",
            "Resolving downloads.cs.stanford.edu (downloads.cs.stanford.edu)... 171.64.64.22\n",
            "Connecting to downloads.cs.stanford.edu (downloads.cs.stanford.edu)|171.64.64.22|:443... connected.\n",
            "HTTP request sent, awaiting response... 200 OK\n",
            "Length: 862182613 (822M) [application/zip]\n",
            "Saving to: ‘glove.6B.zip’\n",
            "\n",
            "glove.6B.zip        100%[===================>] 822.24M  5.10MB/s    in 2m 41s  \n",
            "\n",
            "2023-05-05 13:53:09 (5.12 MB/s) - ‘glove.6B.zip’ saved [862182613/862182613]\n",
            "\n"
          ]
        }
      ]
    },
    {
      "cell_type": "code",
      "source": [
        "print('Indexing word vectors.')\n",
        "\n",
        "embeddings_index = {}\n",
        "f = open('glove.6B.100d.txt', encoding='utf-8')\n",
        "for line in f:\n",
        "    values = line.split()\n",
        "    word = values[0]\n",
        "    coefs = np.asarray(values[1:], dtype='float32')\n",
        "    embeddings_index[word] = coefs\n",
        "f.close()\n",
        "\n",
        "print('Found %s word vectors.' % len(embeddings_index))\n"
      ],
      "metadata": {
        "id": "kUhWMy6PEyk9",
        "colab": {
          "base_uri": "https://localhost:8080/"
        },
        "outputId": "c78e53ec-6025-46d5-8368-9e2e8c6b486b"
      },
      "execution_count": null,
      "outputs": [
        {
          "output_type": "stream",
          "name": "stdout",
          "text": [
            "Indexing word vectors.\n",
            "Found 400000 word vectors.\n"
          ]
        }
      ]
    },
    {
      "cell_type": "code",
      "source": [
        "num_tokens = len(vocab) + 2\n",
        "embedding_dim = 100\n",
        "hits = 0\n",
        "misses = 0\n",
        "\n",
        "# Prepare embedding matrix\n",
        "embedding_matrix = np.zeros((num_tokens, embedding_dim))\n",
        "for word, i in vocab.items():\n",
        "    embedding_vector = embeddings_index.get(word)\n",
        "    if embedding_vector is not None:\n",
        "        # Words not found in embedding index will be all-zeros.\n",
        "        # This includes the representation for \"padding\" and \"OOV\"\n",
        "        embedding_matrix[i] = embedding_vector\n",
        "        hits += 1\n",
        "    else:\n",
        "        misses += 1\n",
        "print(\"Converted %d words (%d misses)\" % (hits, misses))"
      ],
      "metadata": {
        "id": "MCM-w0FHEzQT",
        "colab": {
          "base_uri": "https://localhost:8080/"
        },
        "outputId": "ebcf312e-779c-49d1-95ce-dc7a23dd0dbe"
      },
      "execution_count": null,
      "outputs": [
        {
          "output_type": "stream",
          "name": "stdout",
          "text": [
            "Converted 165559 words (271296 misses)\n"
          ]
        }
      ]
    },
    {
      "cell_type": "markdown",
      "source": [
        "We have 66870 missed words. We need to decide what we're doing with these. We can leave them missed with 0 vectors, we could give them a random vector or we could use pretrained character embeddings."
      ],
      "metadata": {
        "id": "dd2EyvQC6gjP"
      }
    },
    {
      "cell_type": "code",
      "source": [
        "# Creating the pretrained embedding layer\n",
        "from tensorflow.keras import initializers\n",
        "\n",
        "# Embedding model\n",
        "embedding_dims = 100\n",
        "epochs = 20\n",
        "\n",
        "glove_lstm_model = Sequential()\n",
        "\n",
        "# Vectorisation layer to create tensor of shape (batch_size, max_len) containing vocab indices.\n",
        "glove_lstm_model.add(Embedding(\n",
        "    num_tokens,\n",
        "    embedding_dims,\n",
        "    embeddings_initializer=initializers.Constant(embedding_matrix),\n",
        "    input_length=max_len,\n",
        "    trainable=False,\n",
        "))\n",
        "\n",
        "glove_lstm_model.add(LSTM(128, kernel_regularizer=l2(0.001)))\n",
        "glove_lstm_model.add(Dropout(0.3))\n",
        "\n",
        "glove_lstm_model.add(Dense(section_count, activation='softmax'))\n",
        "\n",
        "glove_lstm_model.compile(optimizer='adam',\n",
        "              loss=tf.keras.losses.CategoricalCrossentropy(),\n",
        "              metrics=['accuracy'])\n",
        "\n",
        "glove_lstm_model.summary()\n",
        "\n",
        "history = glove_lstm_model.fit(x_train, y_train,\n",
        "          batch_size=32,\n",
        "          epochs=epochs,\n",
        "          callbacks=[callback],\n",
        "          validation_data=(x_val, y_val))"
      ],
      "metadata": {
        "id": "Bvrt4zzUE63l",
        "colab": {
          "base_uri": "https://localhost:8080/"
        },
        "outputId": "335774c1-944e-4389-913d-006f591db4c4"
      },
      "execution_count": null,
      "outputs": [
        {
          "output_type": "stream",
          "name": "stdout",
          "text": [
            "Model: \"sequential_4\"\n",
            "_________________________________________________________________\n",
            " Layer (type)                Output Shape              Param #   \n",
            "=================================================================\n",
            " embedding_4 (Embedding)     (None, 100, 100)          43685700  \n",
            "                                                                 \n",
            " lstm_3 (LSTM)               (None, 128)               117248    \n",
            "                                                                 \n",
            " dropout_3 (Dropout)         (None, 128)               0         \n",
            "                                                                 \n",
            " dense_6 (Dense)             (None, 30)                3870      \n",
            "                                                                 \n",
            "=================================================================\n",
            "Total params: 43,806,818\n",
            "Trainable params: 121,118\n",
            "Non-trainable params: 43,685,700\n",
            "_________________________________________________________________\n",
            "Epoch 1/20\n",
            "2886/2886 [==============================] - 21s 7ms/step - loss: 2.0450 - accuracy: 0.4410 - val_loss: 1.6699 - val_accuracy: 0.5491\n",
            "Epoch 2/20\n",
            "2886/2886 [==============================] - 19s 7ms/step - loss: 1.5965 - accuracy: 0.5788 - val_loss: 1.5007 - val_accuracy: 0.5995\n",
            "Epoch 3/20\n",
            "2886/2886 [==============================] - 19s 7ms/step - loss: 1.4954 - accuracy: 0.6053 - val_loss: 1.4575 - val_accuracy: 0.6090\n",
            "Epoch 4/20\n",
            "2886/2886 [==============================] - 20s 7ms/step - loss: 1.4394 - accuracy: 0.6192 - val_loss: 1.4394 - val_accuracy: 0.6176\n",
            "Epoch 5/20\n",
            "2886/2886 [==============================] - 20s 7ms/step - loss: 1.4040 - accuracy: 0.6282 - val_loss: 1.3914 - val_accuracy: 0.6277\n",
            "Epoch 6/20\n",
            "2886/2886 [==============================] - 19s 7ms/step - loss: 1.3786 - accuracy: 0.6345 - val_loss: 1.3821 - val_accuracy: 0.6290\n",
            "Epoch 7/20\n",
            "2886/2886 [==============================] - 19s 6ms/step - loss: 1.3586 - accuracy: 0.6406 - val_loss: 1.3573 - val_accuracy: 0.6347\n",
            "Epoch 8/20\n",
            "2886/2886 [==============================] - 18s 6ms/step - loss: 1.3376 - accuracy: 0.6446 - val_loss: 1.3653 - val_accuracy: 0.6335\n",
            "Epoch 9/20\n",
            "2886/2886 [==============================] - 19s 6ms/step - loss: 1.3238 - accuracy: 0.6473 - val_loss: 1.3875 - val_accuracy: 0.6309\n",
            "Epoch 10/20\n",
            "2886/2886 [==============================] - 19s 7ms/step - loss: 1.3137 - accuracy: 0.6495 - val_loss: 1.3627 - val_accuracy: 0.6344\n"
          ]
        }
      ]
    },
    {
      "cell_type": "code",
      "source": [
        "display_training_history(history)"
      ],
      "metadata": {
        "id": "6INSLmHd4Oed",
        "colab": {
          "base_uri": "https://localhost:8080/",
          "height": 472
        },
        "outputId": "b5c2d38b-2a7c-4e98-d106-73979014cf04"
      },
      "execution_count": null,
      "outputs": [
        {
          "output_type": "display_data",
          "data": {
            "text/plain": [
              "<Figure size 640x480 with 1 Axes>"
            ],
            "image/png": "[encoded data removed]"
          },
          "metadata": {}
        }
      ]
    },
    {
      "cell_type": "code",
      "source": [
        "#Lets try using Swivel to see it preforms better...  \n",
        "\n",
        "import tensorflow_hub as hub\n",
        "\n",
        "print(\"loading embedding\")\n",
        "embed = hub.load(\"https://tfhub.dev/google/tf2-preview/gnews-swivel-20dim/1\")\n",
        "\n",
        "hub_layer = hub.KerasLayer(\"https://tfhub.dev/google/tf2-preview/gnews-swivel-20dim/1\", output_shape=[20],\n",
        "                           input_shape=[], trainable = True, dtype=tf.string)"
      ],
      "metadata": {
        "id": "zVzXugLZsq5m",
        "colab": {
          "base_uri": "https://localhost:8080/"
        },
        "outputId": "46c4ab2a-0e4b-49a0-8b5f-787f0e022800"
      },
      "execution_count": null,
      "outputs": [
        {
          "output_type": "stream",
          "name": "stdout",
          "text": [
            "loading embedding\n"
          ]
        }
      ]
    },
    {
      "cell_type": "code",
      "source": [
        "# Creating the pretrained embedding layer using Swivel\n",
        "from tensorflow.keras import initializers\n",
        "\n",
        "# Embedding model\n",
        "epochs = 20\n",
        "\n",
        "swivel_model = Sequential()\n",
        "\n",
        "# Vectorisation layer to create tensor of shape (batch_size, max_len) containing vocab indices.\n",
        "swivel_model.add(hub_layer)\n",
        "swivel_model.add(Dense(64, activation='tanh'))\n",
        "swivel_model.add(Dense(section_count, activation='softmax'))\n",
        "\n",
        "swivel_model.compile(optimizer='adam',\n",
        "              loss=tf.keras.losses.CategoricalCrossentropy(),\n",
        "              metrics=['accuracy'])\n",
        "\n",
        "swivel_model.summary()\n",
        "\n",
        "history = swivel_model.fit(train[\"bodyContent\"], y_train,\n",
        "          batch_size=32,\n",
        "          epochs=epochs,\n",
        "          callbacks=[callback],\n",
        "          validation_data=(test[\"bodyContent\"], y_test))"
      ],
      "metadata": {
        "colab": {
          "base_uri": "https://localhost:8080/"
        },
        "id": "IIiuwMGQzfia",
        "outputId": "6d5ed5b6-db0d-4c8a-9f7a-fdf6e26cc202"
      },
      "execution_count": null,
      "outputs": [
        {
          "output_type": "stream",
          "name": "stdout",
          "text": [
            "Model: \"sequential_5\"\n",
            "_________________________________________________________________\n",
            " Layer (type)                Output Shape              Param #   \n",
            "=================================================================\n",
            " keras_layer (KerasLayer)    (None, 20)                400020    \n",
            "                                                                 \n",
            " dense_7 (Dense)             (None, 64)                1344      \n",
            "                                                                 \n",
            " dense_8 (Dense)             (None, 30)                1950      \n",
            "                                                                 \n",
            "=================================================================\n",
            "Total params: 403,314\n",
            "Trainable params: 403,314\n",
            "Non-trainable params: 0\n",
            "_________________________________________________________________\n",
            "Epoch 1/20\n",
            "2886/2886 [==============================] - 242s 84ms/step - loss: 1.5057 - accuracy: 0.5548 - val_loss: 1.1021 - val_accuracy: 0.6774\n",
            "Epoch 2/20\n",
            "2886/2886 [==============================] - 73s 25ms/step - loss: 0.9440 - accuracy: 0.7230 - val_loss: 0.9179 - val_accuracy: 0.7271\n",
            "Epoch 3/20\n",
            "2886/2886 [==============================] - 50s 17ms/step - loss: 0.7773 - accuracy: 0.7700 - val_loss: 0.8603 - val_accuracy: 0.7417\n",
            "Epoch 4/20\n",
            "2886/2886 [==============================] - 41s 14ms/step - loss: 0.6741 - accuracy: 0.7981 - val_loss: 0.8415 - val_accuracy: 0.7473\n",
            "Epoch 5/20\n",
            "2886/2886 [==============================] - 36s 13ms/step - loss: 0.5940 - accuracy: 0.8217 - val_loss: 0.8373 - val_accuracy: 0.7534\n",
            "Epoch 6/20\n",
            "2886/2886 [==============================] - 36s 12ms/step - loss: 0.5250 - accuracy: 0.8418 - val_loss: 0.8478 - val_accuracy: 0.7528\n",
            "Epoch 7/20\n",
            "2886/2886 [==============================] - 30s 10ms/step - loss: 0.4652 - accuracy: 0.8607 - val_loss: 0.8825 - val_accuracy: 0.7494\n",
            "Epoch 8/20\n",
            "2886/2886 [==============================] - 31s 11ms/step - loss: 0.4106 - accuracy: 0.8766 - val_loss: 0.9229 - val_accuracy: 0.7476\n"
          ]
        }
      ]
    },
    {
      "cell_type": "code",
      "source": [
        "display_training_history(history)"
      ],
      "metadata": {
        "colab": {
          "base_uri": "https://localhost:8080/",
          "height": 472
        },
        "id": "M66brQYY-0Ao",
        "outputId": "2f1a2df4-8ebd-43e5-c498-ddc9fa10e443"
      },
      "execution_count": null,
      "outputs": [
        {
          "output_type": "display_data",
          "data": {
            "text/plain": [
              "<Figure size 640x480 with 1 Axes>"
            ],
            "image/png": "[encoded data removed]"
          },
          "metadata": {}
        }
      ]
    },
    {
      "cell_type": "markdown",
      "source": [
        "## CNN Layer"
      ],
      "metadata": {
        "id": "FsyW9KyK6lix"
      }
    },
    {
      "cell_type": "code",
      "source": [
        "#First looking at it without of LSTM \n",
        "\n",
        "#The size of the embedding represents the vector size of the word we are representing. \n",
        "#The larger the embedding dimension the more of accurate a representation we are getting of each word however this can also lead to overtraining \n",
        "#especially with smaller training datasets. Larger vectors can store more information because they have more possible states. \n",
        "\n",
        "embedding_dims = 32\n",
        "epochs = 20\n",
        "\n",
        "\n",
        "cnn_model_2 = Sequential()\n",
        "# Vectorisation layer to create tensor of shape (batch_size, max_len) containing vocab indices.\n",
        "\n",
        "cnn_model_2.add(Embedding(max_words,\n",
        "                    embedding_dims,\n",
        "                    input_length=max_len))\n",
        "#model.add(Flatten())\n",
        "#Kernel sizes of 2-5 are generally typical for looking at NLP words . <<Insert information on filter and kernel selection>>\n",
        "\n",
        "#Using Conv1(64,5)\n",
        "cnn_model_2.add(Conv1D(64, 2, activation='relu'))\n",
        "cnn_model_2.add(GlobalMaxPooling1D())\n",
        "cnn_model_2.add(Dense(128, activation='relu'))\n",
        "cnn_model_2.add(Dense(section_count,activation=\"softmax\"))\n",
        "\n",
        "cnn_model_2.summary()\n",
        "\n",
        "\n",
        "cnn_model_2.compile(optimizer='adam',\n",
        "              loss=tf.keras.losses.CategoricalCrossentropy(),\n",
        "              metrics=['accuracy'])\n",
        "\n",
        "history = cnn_model_2.fit(x_train, y_train,\n",
        "          batch_size=32,\n",
        "          epochs=epochs,\n",
        "          callbacks=[callback],\n",
        "          validation_data=(x_test, y_test))"
      ],
      "metadata": {
        "id": "kbL6vU0b6oZV",
        "colab": {
          "base_uri": "https://localhost:8080/"
        },
        "outputId": "144809cb-74c3-4f30-d6f4-e13630e3af3a"
      },
      "execution_count": null,
      "outputs": [
        {
          "output_type": "stream",
          "name": "stdout",
          "text": [
            "Model: \"sequential_6\"\n",
            "_________________________________________________________________\n",
            " Layer (type)                Output Shape              Param #   \n",
            "=================================================================\n",
            " embedding_5 (Embedding)     (None, 100, 32)           960000    \n",
            "                                                                 \n",
            " conv1d (Conv1D)             (None, 99, 64)            4160      \n",
            "                                                                 \n",
            " global_max_pooling1d (Globa  (None, 64)               0         \n",
            " lMaxPooling1D)                                                  \n",
            "                                                                 \n",
            " dense_9 (Dense)             (None, 128)               8320      \n",
            "                                                                 \n",
            " dense_10 (Dense)            (None, 30)                3870      \n",
            "                                                                 \n",
            "=================================================================\n",
            "Total params: 976,350\n",
            "Trainable params: 976,350\n",
            "Non-trainable params: 0\n",
            "_________________________________________________________________\n",
            "Epoch 1/20\n",
            "2886/2886 [==============================] - 47s 14ms/step - loss: 2.0180 - accuracy: 0.4412 - val_loss: 1.5898 - val_accuracy: 0.5651\n",
            "Epoch 2/20\n",
            "2886/2886 [==============================] - 14s 5ms/step - loss: 1.3568 - accuracy: 0.6226 - val_loss: 1.4443 - val_accuracy: 0.5986\n",
            "Epoch 3/20\n",
            "2886/2886 [==============================] - 13s 4ms/step - loss: 1.0656 - accuracy: 0.6984 - val_loss: 1.4343 - val_accuracy: 0.6075\n",
            "Epoch 4/20\n",
            "2886/2886 [==============================] - 12s 4ms/step - loss: 0.8291 - accuracy: 0.7617 - val_loss: 1.5774 - val_accuracy: 0.5933\n",
            "Epoch 5/20\n",
            "2886/2886 [==============================] - 12s 4ms/step - loss: 0.6278 - accuracy: 0.8187 - val_loss: 1.7352 - val_accuracy: 0.5888\n",
            "Epoch 6/20\n",
            "2886/2886 [==============================] - 11s 4ms/step - loss: 0.4620 - accuracy: 0.8654 - val_loss: 1.9730 - val_accuracy: 0.5739\n"
          ]
        }
      ]
    },
    {
      "cell_type": "code",
      "source": [
        "display_training_history(history)"
      ],
      "metadata": {
        "colab": {
          "base_uri": "https://localhost:8080/",
          "height": 472
        },
        "id": "opyOQphJFxbJ",
        "outputId": "3bf61a42-ff69-4543-ac7f-fbcf2838da1c"
      },
      "execution_count": null,
      "outputs": [
        {
          "output_type": "display_data",
          "data": {
            "text/plain": [
              "<Figure size 640x480 with 1 Axes>"
            ],
            "image/png": "[encoded data removed]"
          },
          "metadata": {}
        }
      ]
    },
    {
      "cell_type": "code",
      "source": [
        "\n",
        "embedding_dims = 32\n",
        "epochs = 20\n",
        "\n",
        "\n",
        "cnn_model_3 = Sequential()\n",
        "# Vectorisation layer to create tensor of shape (batch_size, max_len) containing vocab indices.\n",
        "\n",
        "cnn_model_3.add(Embedding(max_words,\n",
        "                    embedding_dims,\n",
        "                    input_length=max_len))\n",
        "#model.add(Flatten())\n",
        "#Kernel sizes of 2-5 are generally typical for looking at NLP words . <<Insert information on filter and kernel selection>>\n",
        "\n",
        "#Using Conv1(64,5)\n",
        "cnn_model_3.add(Conv1D(64, 3, activation='relu'))\n",
        "cnn_model_3.add(GlobalMaxPooling1D())\n",
        "cnn_model_3.add(Dense(128, activation='relu'))\n",
        "cnn_model_3.add(Dense(section_count,activation=\"softmax\"))\n",
        "\n",
        "cnn_model_3.summary()\n",
        "\n",
        "\n",
        "cnn_model_3.compile(optimizer='adam',\n",
        "              loss=tf.keras.losses.CategoricalCrossentropy(),\n",
        "              metrics=['accuracy'])\n",
        "\n",
        "history = cnn_model_3.fit(x_train, y_train,\n",
        "          batch_size=32,\n",
        "          epochs=epochs,\n",
        "          callbacks=[callback],\n",
        "          validation_data=(x_test, y_test))"
      ],
      "metadata": {
        "colab": {
          "base_uri": "https://localhost:8080/"
        },
        "id": "IB27xFTxFi5n",
        "outputId": "9f929c28-39c2-424d-bb92-aaded3a5e8a3"
      },
      "execution_count": null,
      "outputs": [
        {
          "output_type": "stream",
          "name": "stdout",
          "text": [
            "Model: \"sequential_7\"\n",
            "_________________________________________________________________\n",
            " Layer (type)                Output Shape              Param #   \n",
            "=================================================================\n",
            " embedding_6 (Embedding)     (None, 100, 32)           960000    \n",
            "                                                                 \n",
            " conv1d_1 (Conv1D)           (None, 98, 64)            6208      \n",
            "                                                                 \n",
            " global_max_pooling1d_1 (Glo  (None, 64)               0         \n",
            " balMaxPooling1D)                                                \n",
            "                                                                 \n",
            " dense_11 (Dense)            (None, 128)               8320      \n",
            "                                                                 \n",
            " dense_12 (Dense)            (None, 30)                3870      \n",
            "                                                                 \n",
            "=================================================================\n",
            "Total params: 978,398\n",
            "Trainable params: 978,398\n",
            "Non-trainable params: 0\n",
            "_________________________________________________________________\n",
            "Epoch 1/20\n",
            "2886/2886 [==============================] - 42s 14ms/step - loss: 2.0313 - accuracy: 0.4321 - val_loss: 1.5559 - val_accuracy: 0.5653\n",
            "Epoch 2/20\n",
            "2886/2886 [==============================] - 14s 5ms/step - loss: 1.3051 - accuracy: 0.6351 - val_loss: 1.4536 - val_accuracy: 0.5967\n",
            "Epoch 3/20\n",
            "2886/2886 [==============================] - 12s 4ms/step - loss: 0.9659 - accuracy: 0.7260 - val_loss: 1.4830 - val_accuracy: 0.6072\n",
            "Epoch 4/20\n",
            "2886/2886 [==============================] - 12s 4ms/step - loss: 0.6837 - accuracy: 0.8029 - val_loss: 1.6608 - val_accuracy: 0.5911\n",
            "Epoch 5/20\n",
            "2886/2886 [==============================] - 12s 4ms/step - loss: 0.4539 - accuracy: 0.8702 - val_loss: 1.9685 - val_accuracy: 0.5764\n",
            "Epoch 6/20\n",
            "2886/2886 [==============================] - 12s 4ms/step - loss: 0.2874 - accuracy: 0.9155 - val_loss: 2.3393 - val_accuracy: 0.5662\n"
          ]
        }
      ]
    },
    {
      "cell_type": "code",
      "source": [
        "display_training_history(history)"
      ],
      "metadata": {
        "colab": {
          "base_uri": "https://localhost:8080/",
          "height": 472
        },
        "id": "7_nVrC8qFyZu",
        "outputId": "df346ae2-b469-451a-c053-53f5afc5dd05"
      },
      "execution_count": null,
      "outputs": [
        {
          "output_type": "display_data",
          "data": {
            "text/plain": [
              "<Figure size 640x480 with 1 Axes>"
            ],
            "image/png": "[encoded data removed]"
          },
          "metadata": {}
        }
      ]
    },
    {
      "cell_type": "code",
      "source": [
        "\n",
        "embedding_dims = 32\n",
        "epochs = 20\n",
        "\n",
        "\n",
        "cnn_model_5 = Sequential()\n",
        "# Vectorisation layer to create tensor of shape (batch_size, max_len) containing vocab indices.\n",
        "\n",
        "cnn_model_5.add(Embedding(max_words,\n",
        "                    embedding_dims,\n",
        "                    input_length=max_len))\n",
        "#model.add(Flatten())\n",
        "#Kernel sizes of 2-5 are generally typical for looking at NLP words . <<Insert information on filter and kernel selection>>\n",
        "\n",
        "#Using Conv1(64,5)\n",
        "cnn_model_5.add(Conv1D(64, 5, activation='relu'))\n",
        "cnn_model_5.add(GlobalMaxPooling1D())\n",
        "cnn_model_5.add(Dense(128, activation='relu'))\n",
        "cnn_model_5.add(Dense(section_count,activation=\"softmax\"))\n",
        "\n",
        "cnn_model_5.summary()\n",
        "\n",
        "\n",
        "cnn_model_5.compile(optimizer='adam',\n",
        "              loss=tf.keras.losses.CategoricalCrossentropy(),\n",
        "              metrics=['accuracy'])\n",
        "\n",
        "history = cnn_model_5.fit(x_train, y_train,\n",
        "          batch_size=32,\n",
        "          epochs=epochs,\n",
        "          callbacks=[callback],\n",
        "          validation_data=(x_test, y_test))"
      ],
      "metadata": {
        "colab": {
          "base_uri": "https://localhost:8080/"
        },
        "id": "0UZoWcO3FrSd",
        "outputId": "27c85554-d19f-4bcc-bdff-4614519bd7ab"
      },
      "execution_count": null,
      "outputs": [
        {
          "output_type": "stream",
          "name": "stdout",
          "text": [
            "Model: \"sequential_8\"\n",
            "_________________________________________________________________\n",
            " Layer (type)                Output Shape              Param #   \n",
            "=================================================================\n",
            " embedding_7 (Embedding)     (None, 100, 32)           960000    \n",
            "                                                                 \n",
            " conv1d_2 (Conv1D)           (None, 96, 64)            10304     \n",
            "                                                                 \n",
            " global_max_pooling1d_2 (Glo  (None, 64)               0         \n",
            " balMaxPooling1D)                                                \n",
            "                                                                 \n",
            " dense_13 (Dense)            (None, 128)               8320      \n",
            "                                                                 \n",
            " dense_14 (Dense)            (None, 30)                3870      \n",
            "                                                                 \n",
            "=================================================================\n",
            "Total params: 982,494\n",
            "Trainable params: 982,494\n",
            "Non-trainable params: 0\n",
            "_________________________________________________________________\n",
            "Epoch 1/20\n",
            "2886/2886 [==============================] - 41s 14ms/step - loss: 2.0456 - accuracy: 0.4290 - val_loss: 1.5629 - val_accuracy: 0.5690\n",
            "Epoch 2/20\n",
            "2886/2886 [==============================] - 13s 5ms/step - loss: 1.2828 - accuracy: 0.6431 - val_loss: 1.4191 - val_accuracy: 0.6105\n",
            "Epoch 3/20\n",
            "2886/2886 [==============================] - 13s 5ms/step - loss: 0.9108 - accuracy: 0.7417 - val_loss: 1.5113 - val_accuracy: 0.6032\n",
            "Epoch 4/20\n",
            "2886/2886 [==============================] - 12s 4ms/step - loss: 0.5997 - accuracy: 0.8270 - val_loss: 1.7242 - val_accuracy: 0.5904\n",
            "Epoch 5/20\n",
            "2886/2886 [==============================] - 13s 4ms/step - loss: 0.3589 - accuracy: 0.8968 - val_loss: 2.0952 - val_accuracy: 0.5756\n"
          ]
        }
      ]
    },
    {
      "cell_type": "code",
      "source": [
        "display_training_history(history)"
      ],
      "metadata": {
        "colab": {
          "base_uri": "https://localhost:8080/",
          "height": 472
        },
        "id": "dRP1AGfRFzL7",
        "outputId": "af74e76a-e223-49df-e2df-8bfac6f20f9e"
      },
      "execution_count": null,
      "outputs": [
        {
          "output_type": "display_data",
          "data": {
            "text/plain": [
              "<Figure size 640x480 with 1 Axes>"
            ],
            "image/png": "[encoded data removed]"
          },
          "metadata": {}
        }
      ]
    },
    {
      "cell_type": "code",
      "source": [
        "#CNN with LSTM layer\n",
        "\n",
        "from tensorflow.keras.layers import MaxPooling1D\n",
        "\n",
        "#Second looking at it as an extra layer\n",
        "embedding_dims = 32\n",
        "epochs = 20\n",
        "\n",
        "cnn_lstm_model = Sequential()\n",
        "\n",
        "# Vectorisation layer to create tensor of shape (batch_size, max_len) containing vocab indices.\n",
        "cnn_lstm_model.add(Embedding(max_words,\n",
        "                    embedding_dims,\n",
        "                    input_length=max_len))\n",
        "cnn_lstm_model.add(Conv1D(128, 5, activation='relu'))\n",
        "cnn_lstm_model.add(MaxPooling1D(3))\n",
        "cnn_lstm_model.add(LSTM(128))\n",
        "cnn_lstm_model.add(Dropout(0.3))\n",
        "cnn_lstm_model.add(Dense(64, activation='tanh'))\n",
        "cnn_lstm_model.add(Dense(section_count,activation=\"softmax\"))\n",
        "\n",
        "cnn_lstm_model.summary()\n",
        "\n",
        "\n",
        "cnn_lstm_model.compile(optimizer='adam',\n",
        "              loss=tf.keras.losses.CategoricalCrossentropy(),\n",
        "              metrics=['accuracy'])\n",
        "\n",
        "history = cnn_lstm_model.fit(x_train, y_train,\n",
        "          batch_size=32,\n",
        "          epochs=epochs,\n",
        "          callbacks=[callback],\n",
        "          validation_data=(x_test, y_test))"
      ],
      "metadata": {
        "id": "NRctjy2060Yo",
        "colab": {
          "base_uri": "https://localhost:8080/"
        },
        "outputId": "1eeaf17d-9807-416c-9f6c-0e6936d9e9b9"
      },
      "execution_count": null,
      "outputs": [
        {
          "output_type": "stream",
          "name": "stdout",
          "text": [
            "Model: \"sequential_9\"\n",
            "_________________________________________________________________\n",
            " Layer (type)                Output Shape              Param #   \n",
            "=================================================================\n",
            " embedding_8 (Embedding)     (None, 100, 32)           960000    \n",
            "                                                                 \n",
            " conv1d_3 (Conv1D)           (None, 96, 128)           20608     \n",
            "                                                                 \n",
            " max_pooling1d (MaxPooling1D  (None, 32, 128)          0         \n",
            " )                                                               \n",
            "                                                                 \n",
            " lstm_4 (LSTM)               (None, 128)               131584    \n",
            "                                                                 \n",
            " dropout_4 (Dropout)         (None, 128)               0         \n",
            "                                                                 \n",
            " dense_15 (Dense)            (None, 64)                8256      \n",
            "                                                                 \n",
            " dense_16 (Dense)            (None, 30)                1950      \n",
            "                                                                 \n",
            "=================================================================\n",
            "Total params: 1,122,398\n",
            "Trainable params: 1,122,398\n",
            "Non-trainable params: 0\n",
            "_________________________________________________________________\n",
            "Epoch 1/20\n",
            "2886/2886 [==============================] - 51s 17ms/step - loss: 2.0541 - accuracy: 0.4020 - val_loss: 1.6220 - val_accuracy: 0.5416\n",
            "Epoch 2/20\n",
            "2886/2886 [==============================] - 19s 7ms/step - loss: 1.3796 - accuracy: 0.6147 - val_loss: 1.3802 - val_accuracy: 0.6171\n",
            "Epoch 3/20\n",
            "2886/2886 [==============================] - 20s 7ms/step - loss: 1.0708 - accuracy: 0.7060 - val_loss: 1.3750 - val_accuracy: 0.6309\n",
            "Epoch 4/20\n",
            "2886/2886 [==============================] - 19s 6ms/step - loss: 0.8570 - accuracy: 0.7652 - val_loss: 1.4161 - val_accuracy: 0.6293\n",
            "Epoch 5/20\n",
            "2886/2886 [==============================] - 19s 7ms/step - loss: 0.6801 - accuracy: 0.8133 - val_loss: 1.5104 - val_accuracy: 0.6279\n",
            "Epoch 6/20\n",
            "2886/2886 [==============================] - 20s 7ms/step - loss: 0.5287 - accuracy: 0.8540 - val_loss: 1.6785 - val_accuracy: 0.6113\n"
          ]
        }
      ]
    },
    {
      "cell_type": "code",
      "source": [
        "display_training_history(history)"
      ],
      "metadata": {
        "colab": {
          "base_uri": "https://localhost:8080/",
          "height": 472
        },
        "id": "HsjNXPzqF2cl",
        "outputId": "c723d4eb-16a4-40a5-bf0a-90a3713316b8"
      },
      "execution_count": null,
      "outputs": [
        {
          "output_type": "display_data",
          "data": {
            "text/plain": [
              "<Figure size 640x480 with 1 Axes>"
            ],
            "image/png": "[encoded data removed]"
          },
          "metadata": {}
        }
      ]
    },
    {
      "cell_type": "markdown",
      "source": [
        "# Comparison to Non-Neural Methods\n"
      ],
      "metadata": {
        "id": "4hN8qDzOfZEN"
      }
    },
    {
      "cell_type": "code",
      "source": [
        "from sklearn.linear_model import SGDClassifier\n",
        "from sklearn.pipeline import Pipeline\n",
        "from sklearn.feature_extraction.text import CountVectorizer, TfidfVectorizer, TfidfTransformer\n",
        "from sklearn.metrics import accuracy_score, confusion_matrix, classification_report\n",
        "\n",
        "\n",
        "sgd = Pipeline([('vect', CountVectorizer(min_df=0, lowercase=True)),\n",
        "                ('tfidf', TfidfTransformer()),\n",
        "                ('clf', SGDClassifier(loss='hinge', penalty='l2',alpha=1e-3, random_state=42, max_iter=5, tol=None)),\n",
        "               ])\n",
        "sgd.fit(train[\"bodyContent\"], train['sectionName'])\n",
        "\n",
        "\n",
        "y_pred = sgd.predict(test[\"bodyContent\"])\n",
        "\n",
        "print('accuracy %s' % accuracy_score(y_pred, test['sectionName']))\n",
        "print(classification_report(test['sectionName'], y_pred))"
      ],
      "metadata": {
        "colab": {
          "base_uri": "https://localhost:8080/"
        },
        "id": "-liaMqsxT1AG",
        "outputId": "b582760a-1770-4bd4-aaa6-d11ff272ea27"
      },
      "execution_count": null,
      "outputs": [
        {
          "output_type": "stream",
          "name": "stdout",
          "text": [
            "accuracy 0.7197435675301048\n",
            "                    precision    recall  f1-score   support\n",
            "\n",
            "    Art and design       0.71      0.78      0.74       181\n",
            "    Australia news       0.72      0.93      0.81       646\n",
            "             Books       0.73      0.85      0.79       409\n",
            "          Business       0.67      0.82      0.73       532\n",
            "           Culture       0.38      0.10      0.16       120\n",
            "         Education       0.71      0.80      0.75       170\n",
            "       Environment       0.65      0.63      0.64       385\n",
            "           Fashion       0.72      0.77      0.75       113\n",
            "              Film       0.76      0.89      0.82       366\n",
            "              Food       0.67      0.85      0.75       154\n",
            "          Football       0.80      0.99      0.89       850\n",
            "Global development       0.70      0.13      0.22       120\n",
            "               Law       0.38      0.08      0.13        39\n",
            "    Life and style       0.69      0.47      0.56       459\n",
            "             Media       0.69      0.34      0.46       166\n",
            "             Money       0.87      0.56      0.68       152\n",
            "             Music       0.76      0.95      0.85       478\n",
            "              News       0.90      0.49      0.63       109\n",
            "           Opinion       0.68      0.51      0.58       970\n",
            "          Politics       0.62      0.83      0.71       569\n",
            "           Science       0.63      0.44      0.52       126\n",
            "           Society       0.69      0.48      0.57       388\n",
            "             Sport       0.82      0.89      0.86       813\n",
            "             Stage       0.83      0.73      0.78       190\n",
            "        Technology       0.73      0.60      0.66       195\n",
            "Television & radio       0.82      0.73      0.77       323\n",
            "            Travel       0.81      0.70      0.75       107\n",
            "           UK news       0.72      0.44      0.55       511\n",
            "           US news       0.66      0.83      0.73       592\n",
            "        World news       0.70      0.69      0.69      1310\n",
            "\n",
            "          accuracy                           0.72     11543\n",
            "         macro avg       0.71      0.64      0.65     11543\n",
            "      weighted avg       0.72      0.72      0.70     11543\n",
            "\n"
          ]
        }
      ]
    },
    {
      "cell_type": "markdown",
      "source": [
        "# Use of Additional Data"
      ],
      "metadata": {
        "id": "dsKDVnfi9cQw"
      }
    },
    {
      "cell_type": "code",
      "source": [
        "#When using two inputs for text classification there are two options: 1. Concatenate the vectors of the two columns pre training, \n",
        "#2. Concatenate the model outputs post training. We will explore both below "
      ],
      "metadata": {
        "id": "SseGNgCw9hyD"
      },
      "execution_count": null,
      "outputs": []
    },
    {
      "cell_type": "code",
      "source": [
        "#Concatenating inputs pre model training"
      ],
      "metadata": {
        "id": "Gj0miYWt_uXS"
      },
      "execution_count": null,
      "outputs": []
    },
    {
      "cell_type": "code",
      "source": [
        "#Mapping Section Names to Integers as Category ID\n",
        "model_data_expanded = articles_sample[[\"bodyContent\",\"webTitle\",\"sectionName\"]]\n",
        "model_data_expanded = model_data_expanded[model_data_expanded.sectionName.isin(count_section_name.sectionName)]\n",
        "model_data_expanded[\"sectionName\"] = model_data_expanded[\"sectionName\"].astype('category')\n",
        "model_data_expanded[\"category_id\"] = model_data_expanded[\"sectionName\"].cat.codes\n",
        "model_data_expanded.head()\n",
        "\n",
        "id_to_category = pd.Series(model_data_expanded.sectionName.values,index=model_data_expanded.category_id).to_dict()\n",
        "\n",
        "\n",
        "#Creating Train, Validation and Test Sets\n",
        "train_expanded, validate_expanded, test_expanded = np.split(model_data_expanded.sample(frac=1, random_state=42), [int(.8*len(model_data_expanded)), int(.9*len(model_data_expanded))])\n",
        "print(train_expanded.shape)\n",
        "print(validate_expanded.shape)\n",
        "print(test_expanded.shape)\n",
        "\n",
        "#Splitting out datasets\n",
        "x_train_expanded = train_expanded.webTitle + ' ' + train_expanded.bodyContent \n",
        "y_train_expanded = train_expanded.category_id\n",
        "x_val_expanded = validate_expanded.webTitle + ' ' + validate_expanded.bodyContent\n",
        "y_val_expanded = validate_expanded.category_id\n",
        "x_test_expanded = test_expanded.webTitle + ' ' + test_expanded.bodyContent\n",
        "y_test_expanded = test_expanded.category_id\n",
        "\n",
        "#Define hyperparameters\n",
        "max_words = 30000\n",
        "max_len = 100\n",
        "\n",
        "#Create Tokenizer\n",
        "tokenizer_expanded = Tokenizer(num_words=max_words)\n",
        "tokenizer_expanded.fit_on_texts(x_train_expanded)\n",
        "\n",
        "#Tokenise all texts\n",
        "x_train_expanded = tokenizer_expanded.texts_to_sequences(x_train_expanded)\n",
        "x_val_expanded = tokenizer_expanded.texts_to_sequences(x_val_expanded)\n",
        "x_test_expanded = tokenizer_expanded.texts_to_sequences(x_test_expanded)\n",
        "\n",
        "#Padding Arrays\n",
        "x_train_expanded = sequence.pad_sequences(x_train_expanded, maxlen=max_len)\n",
        "x_val_expanded = sequence.pad_sequences(x_val_expanded, maxlen=max_len)\n",
        "x_test_expanded = sequence.pad_sequences(x_test_expanded, maxlen=max_len)\n",
        "\n",
        "# One-hot encode the labels\n",
        "y_train_expanded = to_categorical(y_train_expanded)\n",
        "y_test_expanded = to_categorical(y_test_expanded)\n",
        "y_val_expanded = to_categorical(y_val_expanded)\n",
        "\n",
        "#Create Vocab\n",
        "vocab_expanded = tokenizer_expanded.word_index\n",
        "print('Found %s unique tokens.' % len(vocab_expanded))\n",
        "\n"
      ],
      "metadata": {
        "colab": {
          "base_uri": "https://localhost:8080/"
        },
        "id": "EGJaE9Mr_ytx",
        "outputId": "9ed8f54c-ffd6-4d5a-b372-4d70d511b58c"
      },
      "execution_count": null,
      "outputs": [
        {
          "output_type": "stream",
          "name": "stdout",
          "text": [
            "(92344, 4)\n",
            "(11543, 4)\n",
            "(11543, 4)\n",
            "Found 451056 unique tokens.\n"
          ]
        }
      ]
    },
    {
      "cell_type": "code",
      "source": [
        "# 4. CNN with LSTM for additional data \n",
        "embedding_dims = 32\n",
        "epochs = 20\n",
        "\n",
        "cnn_lstm_model_expanded = Sequential()\n",
        "\n",
        "# Vectorisation layer to create tensor of shape (batch_size, max_len) containing vocab indices.\n",
        "cnn_lstm_model_expanded.add(Embedding(max_words,\n",
        "                    embedding_dims,\n",
        "                    input_length=max_len))\n",
        "cnn_lstm_model_expanded.add(Conv1D(128, 5, activation='relu'))\n",
        "cnn_lstm_model_expanded.add(MaxPooling1D(3))\n",
        "cnn_lstm_model_expanded.add(LSTM(128))\n",
        "cnn_lstm_model_expanded.add(Dropout(0.3))\n",
        "cnn_lstm_model_expanded.add(Dense(64, activation='tanh'))\n",
        "cnn_lstm_model_expanded.add(Dense(section_count,activation=\"softmax\"))\n",
        "\n",
        "cnn_lstm_model_expanded.summary()\n",
        "\n",
        "\n",
        "cnn_lstm_model_expanded.compile(optimizer='adam',\n",
        "              loss=tf.keras.losses.CategoricalCrossentropy(),\n",
        "              metrics=['accuracy'])\n",
        "\n",
        "\n",
        "#Model fit\n",
        "\n",
        "history = cnn_lstm_model_expanded.fit(x_train, y_train,\n",
        "          batch_size=32,\n",
        "          epochs=epochs,\n",
        "          callbacks=[callback],\n",
        "          validation_data=(x_test, y_test))"
      ],
      "metadata": {
        "colab": {
          "base_uri": "https://localhost:8080/"
        },
        "id": "Fz3YecN3CRnB",
        "outputId": "ad63c360-acd1-4dff-fe7c-2dac2d076c2c"
      },
      "execution_count": null,
      "outputs": [
        {
          "output_type": "stream",
          "name": "stdout",
          "text": [
            "Model: \"sequential_10\"\n",
            "_________________________________________________________________\n",
            " Layer (type)                Output Shape              Param #   \n",
            "=================================================================\n",
            " embedding_9 (Embedding)     (None, 100, 32)           960000    \n",
            "                                                                 \n",
            " conv1d_4 (Conv1D)           (None, 96, 128)           20608     \n",
            "                                                                 \n",
            " max_pooling1d_1 (MaxPooling  (None, 32, 128)          0         \n",
            " 1D)                                                             \n",
            "                                                                 \n",
            " lstm_5 (LSTM)               (None, 128)               131584    \n",
            "                                                                 \n",
            " dropout_5 (Dropout)         (None, 128)               0         \n",
            "                                                                 \n",
            " dense_17 (Dense)            (None, 64)                8256      \n",
            "                                                                 \n",
            " dense_18 (Dense)            (None, 30)                1950      \n",
            "                                                                 \n",
            "=================================================================\n",
            "Total params: 1,122,398\n",
            "Trainable params: 1,122,398\n",
            "Non-trainable params: 0\n",
            "_________________________________________________________________\n",
            "Epoch 1/20\n",
            "2886/2886 [==============================] - 52s 17ms/step - loss: 2.0628 - accuracy: 0.3970 - val_loss: 1.5905 - val_accuracy: 0.5463\n",
            "Epoch 2/20\n",
            "2886/2886 [==============================] - 21s 7ms/step - loss: 1.3578 - accuracy: 0.6219 - val_loss: 1.4102 - val_accuracy: 0.6107\n",
            "Epoch 3/20\n",
            "2886/2886 [==============================] - 19s 6ms/step - loss: 1.0589 - accuracy: 0.7106 - val_loss: 1.3913 - val_accuracy: 0.6230\n",
            "Epoch 4/20\n",
            "2886/2886 [==============================] - 18s 6ms/step - loss: 0.8387 - accuracy: 0.7707 - val_loss: 1.4365 - val_accuracy: 0.6246\n",
            "Epoch 5/20\n",
            "2886/2886 [==============================] - 18s 6ms/step - loss: 0.6602 - accuracy: 0.8195 - val_loss: 1.5732 - val_accuracy: 0.6159\n",
            "Epoch 6/20\n",
            "2886/2886 [==============================] - 19s 6ms/step - loss: 0.5153 - accuracy: 0.8594 - val_loss: 1.6703 - val_accuracy: 0.6127\n",
            "Epoch 7/20\n",
            "2886/2886 [==============================] - 19s 7ms/step - loss: 0.3922 - accuracy: 0.8928 - val_loss: 1.8164 - val_accuracy: 0.6080\n"
          ]
        }
      ]
    },
    {
      "cell_type": "code",
      "source": [
        "display_training_history(history)"
      ],
      "metadata": {
        "colab": {
          "base_uri": "https://localhost:8080/",
          "height": 472
        },
        "id": "8HKD-RZsLwV4",
        "outputId": "91b43047-0823-486e-e69e-371c01881a32"
      },
      "execution_count": null,
      "outputs": [
        {
          "output_type": "display_data",
          "data": {
            "text/plain": [
              "<Figure size 640x480 with 1 Axes>"
            ],
            "image/png": "[encoded data removed]"
          },
          "metadata": {}
        }
      ]
    },
    {
      "cell_type": "code",
      "source": [
        "#Saving best two performing models \n",
        "\n",
        "swivel_model.save('swivel_model.h5')\n",
        "shutil.copy(\"swivel_model.h5\", \"/content/drive/MyDrive/Deep_Learning_Models/swivel_model.h5\")\n",
        "\n",
        "\n",
        "cnn_lstm_model.save('cnn_lstm_model.h5')\n",
        "shutil.copy(\"cnn_lstm_model.h5\", \"/content/drive/MyDrive/Deep_Learning_Models/cnn_lstm_model.h5\")"
      ],
      "metadata": {
        "colab": {
          "base_uri": "https://localhost:8080/",
          "height": 36
        },
        "id": "HV-1rHV_KaNe",
        "outputId": "4596928d-a2a5-4dac-9d55-16b3e374b5e8"
      },
      "execution_count": null,
      "outputs": [
        {
          "output_type": "execute_result",
          "data": {
            "text/plain": [
              "'/content/drive/MyDrive/Deep_Learning_Models/cnn_lstm_model.h5'"
            ],
            "application/vnd.google.colaboratory.intrinsic+json": {
              "type": "string"
            }
          },
          "metadata": {},
          "execution_count": 32
        }
      ]
    }
  ]
}